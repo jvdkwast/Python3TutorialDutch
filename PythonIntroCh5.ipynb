{
 "cells": [
  {
   "cell_type": "markdown",
   "metadata": {},
   "source": [
    "< [Functies](PythonIntroCh4.ipynb) | [Inhoud](PythonIntro.ipynb) | [For Loop](PythonIntroCh6.ipynb) >"
   ]
  },
  {
   "cell_type": "markdown",
   "metadata": {},
   "source": [
    "# 5.\tTuples, Lists en Dictionaries\n",
    "## 5.1\tIntroductie\n",
    "Doen je hersenen nog steeds pijn van de laatste les? Maak je geen zorgen, hier hoef je wat minder over na te denken. We gaan terug naar iets eenvoudigs - variabelen - maar een beetje dieper.\n",
    "\n",
    "Denk er eens over na - variabelen slaan een stukje informatie op. Ze kunnen die informatie op elk moment beschikbaar maken en hun stukje informatie kan op elk moment worden gewijzigd. Variabelen zijn geweldig in wat ze doen: een stukje informatie opslaan dat in de loop van de tijd kan veranderen.\n",
    "\n",
    "Maar wat als je een lange lijst met informatie moet opslaan die in de loop van de tijd niet verandert? Zoals bijvoorbeeld de namen van de maanden van het jaar. Of misschien een lange lijst met informatie die in de loop van de tijd verandert? Zoals bijvoorbeeld de namen van al je katten. Je kunt nieuwe katten krijgen, sommigen kunnen overlijden. Hoe zit het met een telefoonboek? Daarvoor zou je zou een lijst met namen moeten hebben en aan elk van die namen een telefoonnummer gekoppeld. Hoe zou je dat doen? "
   ]
  },
  {
   "cell_type": "markdown",
   "metadata": {},
   "source": [
    "## 5.2\tDe oplossing - Lists, Tuples en Dictionaries\n",
    "Voor deze drie problemen gebruikt Python drie verschillende oplossingen: tuples, lists en dictionaries:\n",
    "* **Lists** zijn wat ze lijken: een lijst met waarden. Elk van hen is genummerd, beginnend bij nul - de eerste is genummerd nul, de tweede 1, de derde 2, enz. Je kunt waarden uit de lijst verwijderen en aan het einde nieuwe waarden toevoegen. Voorbeeld: de namen van je vele katten.\n",
    "* **Tuples** zijn net als lijsten, maar je kunt hun waarden niet wijzigen. De waarden die je het eerst opgeeft, zijn de waarden waar je aan vastzit voor de rest van het programma. Nogmaals, elke waarde is genummerd vanaf nul, voor gemakkelijke referentie. Voorbeeld: de namen van de maanden van het jaar.\n",
    "* **Dictionaries** zijn vergelijkbaar met wat hun naam doet vermoeden: een woordenboek. In een woordenboek heb je een 'index' van woorden, en voor elk daarvan een definitie. In Python wordt het woord een 'sleutel' (*key*) genoemd en de definitie een 'waarde' (*value*). De waarden in een woordenboek zijn niet genummerd - ze staan ook niet in een specifieke volgorde - voor de sleutel geldt hetzelfde. Je kunt waarden aan dictionaries toevoegen, verwijderen en wijzigen. Voorbeeld: telefoonboek."
   ]
  },
  {
   "cell_type": "markdown",
   "metadata": {},
   "source": [
    "### 5.2.1 Tuples\n",
    "Tuples zijn vrij eenvoudig te maken. Je geeft je tuple een naam en daarna de lijst met waarden die het zal dragen. Bijvoorbeeld de maanden van het jaar:"
   ]
  },
  {
   "cell_type": "code",
   "execution_count": null,
   "metadata": {},
   "outputs": [],
   "source": [
    "maanden = ('januari','februari','maart','april','mei','juni',\\\n",
    "'juli','augustus','september','oktober','november','december')"
   ]
  },
  {
   "cell_type": "markdown",
   "metadata": {},
   "source": [
    "* Merk op dat het `\\` ding aan het einde van de eerste regel die regel code naar de volgende regel overbrengt. Het is een handige manier om grote regels leesbaarder te maken.\n",
    "* Technisch gezien hoef je die haakjes daar niet te plaatsen, maar het voorkomt dat Python dingen in de war brengt.\n",
    "* Je mag spaties achter de komma's plaatsen als je dat nodig vindt - het maakt niet echt uit."
   ]
  },
  {
   "cell_type": "markdown",
   "metadata": {},
   "source": [
    "Python organiseert die waarden vervolgens in een handige, genummerde index - beginnend bij nul, in de volgorde waarin je ze hebt ingevoerd. Het wordt als volgd georganiseerd: \n",
    "\n",
    "| Index | Value |\n",
    "| :---: | :---: |\n",
    "| 0 | januari |\n",
    "| 1 | februari |\n",
    "| 2 | maart |\n",
    "| 3 | april |\n",
    "| 4 | mei |\n",
    "| 5 | juni |\n",
    "| 6 | juli |\n",
    "| 7 | augustus |\n",
    "| 8 | september |\n",
    "| 9 | oktober |\n",
    "| 10 | november |\n",
    "| 11 | december |\n",
    "\n",
    "En dat zijn tuples! Heel eenvoudig..."
   ]
  },
  {
   "cell_type": "markdown",
   "metadata": {},
   "source": [
    "### 5.2.2 Lists\n",
    "Lists lijken erg op tuples. Lists zijn aanpasbaar (of 'veranderlijk' (*mutable*), zoals een programmeur kan zeggen), dus hun waarden kunnen worden gewijzigd. Meestal gebruiken we lijsten, geen tupels, omdat we de waarden van dingen gemakkelijk willen veranderen als dat nodig is.\n",
    "\n",
    "Lists worden op dezelfde manier gedefinieerd als tuples. Stel dat je vijf katten hebt, genaamd Tom, Snappy, Kitty, Jessie en Chester. Om ze in een list te plaatsen, zou je dit moeten doen: "
   ]
  },
  {
   "cell_type": "code",
   "execution_count": null,
   "metadata": {},
   "outputs": [],
   "source": [
    "katten = ['Tom', 'Snappy', 'Kitty', 'Jessie', 'Chester']"
   ]
  },
  {
   "cell_type": "markdown",
   "metadata": {},
   "source": [
    "Zoals je ziet, is de code precies hetzelfde als een tuple, BEHALVE dat alle waarden tussen vierkante haken worden geplaatst, niet tussen haakjes. Nogmaals, je hoeft geen spaties na de komma te hebben.\n",
    "\n",
    "Je roept waarden op uit lists op precies dezelfde manier als je doet met tuples. Om bijvoorbeeld de naam van je 3e kat af te drukken, doe je dit: "
   ]
  },
  {
   "cell_type": "code",
   "execution_count": null,
   "metadata": {},
   "outputs": [],
   "source": [
    "print(katten[2])"
   ]
  },
  {
   "cell_type": "markdown",
   "metadata": {},
   "source": [
    "Je kunt ook een reeks voorbeelden oproepen, zoals hierboven, bijvoorbeeld - `katten[0: 2]` herinnert zich uw 1e en 2e kat. Probeer het in het bovenstaande veld.\n",
    "\n",
    "Waar lists goed van pas komen, is hoe ze kunnen worden aangepast. Om een waarde aan een list toe te voegen, gebruik je de functie `append()`. Laten we zeggen dat je een nieuwe kat hebt, Catherine genaamd. Om haar aan de lijst toe te voegen, voer je dit uit:"
   ]
  },
  {
   "cell_type": "code",
   "execution_count": null,
   "metadata": {},
   "outputs": [],
   "source": [
    "katten.append('Catherine')"
   ]
  },
  {
   "cell_type": "markdown",
   "metadata": {},
   "source": [
    "Gebruik het invoerveld hieronder om te kijken of de nieuwe kat is toegevoegd aan de list."
   ]
  },
  {
   "cell_type": "code",
   "execution_count": null,
   "metadata": {},
   "outputs": [],
   "source": []
  },
  {
   "cell_type": "markdown",
   "metadata": {},
   "source": [
    "Dat is een beetje raar, is het niet? Ik zal het uitleggen. Die functie staat op een grappige plek - na een punt `.` achter de naam van de list. In een latere les zul je die dingen meer zien. Ondertussen is dit de vorm van de functie die een nieuwe waarde aan een list toevoegt: \n",
    "\n",
    "```Python\n",
    "#voeg een nieuwe waarde toe aan het eind van de list:\n",
    "list_naam.append(waarde-om-toe-te-voegen)\n",
    "\n",
    "#bijvoorbeeld om het getal 5038 aan de lijst 'getallen' toe te voegen:\n",
    "getallen.append(5038)\n",
    "```\n",
    "\n",
    "Duidelijker zo? Mooi!\n",
    "\n",
    "Nu in een trieste situatie - Snappy werd neergeschoten door een buurman en gegeten voor hun avondeten. Je moet hem (of haar) van de lijst verwijderen. Het verwijderen van die kat is gelukkig een gemakkelijke taak, dus je moet je zo kort mogelijk in verdriet wentelen:"
   ]
  },
  {
   "cell_type": "code",
   "execution_count": null,
   "metadata": {},
   "outputs": [],
   "source": [
    "#verwijder je tweede kat, Snappy.\n",
    "del katten[1]"
   ]
  },
  {
   "cell_type": "markdown",
   "metadata": {},
   "source": [
    "Kijk opnieuw welke katten er in de list staan:"
   ]
  },
  {
   "cell_type": "code",
   "execution_count": null,
   "metadata": {},
   "outputs": [],
   "source": []
  },
  {
   "cell_type": "markdown",
   "metadata": {},
   "source": [
    "Je hebt zojuist de 2e kat uit je lijst verwijderd - arme ouwe Snappy.\n",
    "En met die morbide boodschap, laten we verder gaan naar ... "
   ]
  },
  {
   "cell_type": "markdown",
   "metadata": {},
   "source": [
    "### 5.3 Dictionaries\n",
    "Oké, er is dus meer in het leven dan de namen van je katten. Je moet je zus, moeder, zoon, de fruitman en iedereen die moet weten dat hun favoriete kat dood is, bellen. Daarvoor heb je een telefoonboek nodig.\n",
    "\n",
    "Nu zijn de lijsten die we hierboven hebben gebruikt niet echt geschikt voor een telefoonboek. Je moet een nummer weten op basis van iemands naam - niet andersom, zoals we deden met de katten. In de voorbeelden van maanden en katten gaven we de computer een nummer en een naam. Deze keer willen we de computer een naam geven, en hij geeft ons een nummer. Hiervoor hebben we *Dictionaries* nodig.\n",
    "\n",
    "Dus hoe maken we een dictionary? Berg je inbindapparatuur op, zo geavanceerd is het niet.\n",
    "Onthoud dat dictionaries *keys* en *values* hebben. Zoals in een telefoonboek de namen van mensen staan en vervolgens hun nummers.\n",
    "\n",
    "Wanneer je in eerste instantie een dictionary maakt, lijkt het op het maken van een tuple of list. Tuples hebben `(`en`)` dingen, lists hebben `[` en `]` dingen. Raad eens! Woordenboeken hebben `{` en `}` dingen - accolades. Hieronder een voorbeeld van een dictionary met vier telefoonnummers erin:"
   ]
  },
  {
   "cell_type": "code",
   "execution_count": null,
   "metadata": {},
   "outputs": [],
   "source": [
    "#Maak het telefoonboek:\n",
    "telefoonboek = {'Andrew Parson':8806336, \\\n",
    "'Emily Everett':6784346, 'Peter Power':7658344, \\\n",
    "'Lewis Lame':1122345}\n",
    "print(telefoonboek['Lewis Lame'])"
   ]
  },
  {
   "cell_type": "markdown",
   "metadata": {},
   "source": [
    "Als je het uitvoert, zie je dat het nummer van Lewis Lame op het scherm wordt afgedrukt. Merk op hoe we in plaats van de waarde te identificeren met een nummer, zoals in de katten- en maandenvoorbeelden, de waarde identificeren door een andere waarde te gebruiken - in dit geval de naam van de persoon.\n",
    "\n",
    "Oké, je hebt een nieuw telefoonboek gemaakt. Nu wil je nieuwe nummers aan het boek toevoegen. Wat doe je dan? Een heel eenvoudige regel code:"
   ]
  },
  {
   "cell_type": "code",
   "execution_count": null,
   "metadata": {},
   "outputs": [],
   "source": [
    "#Voeg de persoon 'Gingerbread Man' aan het telefoonboek toe:\n",
    "\n",
    "telefoonboek['Gingerbread Man'] = 1234567"
   ]
  },
  {
   "cell_type": "markdown",
   "metadata": {},
   "source": [
    "Alles wat die regel zegt, is dat er een persoon genaamd `Gingerbread Man` in het telefoonboek staat, en zijn nummer is `1234567`. Met andere woorden - de *key* is `Gingerbread Man` en de *value* is `1234567`."
   ]
  },
  {
   "cell_type": "markdown",
   "metadata": {},
   "source": [
    "Kijk met behulp van het invoerveld hieronder of de persoon is toegevoegd."
   ]
  },
  {
   "cell_type": "code",
   "execution_count": null,
   "metadata": {},
   "outputs": [],
   "source": []
  },
  {
   "cell_type": "markdown",
   "metadata": {},
   "source": [
    "Je kan vermeldingen in een dictionary verwijderen op dezelfde manier als bij een list. Laten we zeggen dat Andrew Parson je buurman is en je kat neerschoot. Je wilt nooit meer met hem praten en hebt daarom zijn nummer niet nodig. Net als in een list, zou je dit doen:"
   ]
  },
  {
   "cell_type": "code",
   "execution_count": null,
   "metadata": {},
   "outputs": [],
   "source": [
    "del phonebook['Andrew Parson']"
   ]
  },
  {
   "cell_type": "markdown",
   "metadata": {},
   "source": [
    "Wederom, heel gemakkelijk. de operator `del` verwijdert elke functie, variabele of item in een list of dictionary (een item in een dictionary is slechts een variabele met een cijfer of een string als naam. Dit komt later van pas.)"
   ]
  },
  {
   "cell_type": "markdown",
   "metadata": {},
   "source": [
    "Kijk met behulp van het invoerveld hieronder of het nummer is verwijderd."
   ]
  },
  {
   "cell_type": "code",
   "execution_count": null,
   "metadata": {},
   "outputs": [],
   "source": []
  },
  {
   "cell_type": "markdown",
   "metadata": {},
   "source": [
    "Weet je nog die `append`-functie die we bij de list hebben gebruikt? Welnu, er zijn er nogal wat die kunnen worden gebruikt met dictionaries. Hieronder staat een programma met een aantal van die functies erin. Het zal gaandeweg commentaar bevatten waarin wordt uitgelegd wat het doet. Experimenteer er zoveel mee als je wilt."
   ]
  },
  {
   "cell_type": "code",
   "execution_count": null,
   "metadata": {},
   "outputs": [],
   "source": [
    "#Een aantal voorbeelden van een dictionary\n",
    "\n",
    "#Eerst definiëren we een dictionary\n",
    "#in dit geval is de leeg\n",
    "leeftijden = {}\n",
    "\n",
    "#Voeg een aantal namen toe aan de dictionary\n",
    "leeftijden['Sue'] = 23\n",
    "leeftijden['Peter'] = 19\n",
    "leeftijden['Andrew'] = 78\n",
    "leeftijden['Karren'] = 45\n",
    "\n",
    "#Gebruik een 'if' statement om de key te vinden in de lijst\n",
    "#Onthoud - dit is hoe een 'if' statements werkt -\n",
    "#iets wordt uitgevoerd als het waar is\n",
    "#en iets wordt niet uitgevoerd als het onwaar is.\n",
    "if 'Sue' in leeftijden:\n",
    "    print(\"Sue staat in de dictionary. Zij is\", \\\n",
    "    leeftijden['Sue'], \"jaar\")\n",
    "\n",
    "else:\n",
    "    print(\"Sue staat niet in de dictionary\")\n",
    "\n",
    "#Gebruik de functie keys() - \n",
    "#Deze functie retoerneert een list\n",
    "#van alle namen van de keys.\n",
    "#Bijvoorbeeld:\n",
    "print(\"De volgende personen staan in de dictionary:\")\n",
    "print(leeftijden.keys())\n",
    "\n",
    "#Je kan deze functie gebruiken\n",
    "#om alle namen in een list op te slaan:\n",
    "keys = leeftijden.keys()\n",
    "\n",
    "#Je kan ook een list maken\n",
    "#van alle values in een dictionary.\n",
    "#Hiervoor gebruik je de values() functie:\n",
    "print(\"Personen hebben de volgende leeftijden:\", \\\n",
    "leeftijden.values())\n",
    "\n",
    "#Sla het op in een list:\n",
    "values = leeftijden.values()\n",
    "\n",
    "#Je kan lists sorteren met de sorted() functie\n",
    "#Het sorteert alle values in een list\n",
    "#alphabeticsch, numeriek, etc...\n",
    "#Je kan dictionaries niet sorteren - \n",
    "#ze staan niet in een bepaalde volgorde\n",
    "print(keys)\n",
    "gesorteerdekeys = sorted(keys)\n",
    "print(gesorteerdekeys)\n",
    "\n",
    "print(values)\n",
    "gesorteerdevalues = sorted(values)\n",
    "print(gesorteerdevalues)\n",
    "\n",
    "#Je kunt het aantal vermeldingen vinden \n",
    "#met de len() functie:\n",
    "print(\"De dictionary heeft\", \\\n",
    "len(leeftijden), \"vermeldingen\")"
   ]
  },
  {
   "cell_type": "markdown",
   "metadata": {},
   "source": [
    "## 5.3 Conclusie\n",
    "Er zijn veel andere functies die u kunt gebruiken om met lijsten en woordenboeken te werken - te veel om er nu doorheen te gaan. We verlaten de les op dit punt - je hebt genoeg geleerd voor één les. "
   ]
  },
  {
   "cell_type": "markdown",
   "metadata": {},
   "source": [
    "< [Functions](PythonIntroCh4.ipynb) | [Contents](PythonIntro.ipynb) | [For Loop](PythonIntroCh6.ipynb) >"
   ]
  }
 ],
 "metadata": {
  "kernelspec": {
   "display_name": "Python 3",
   "language": "python",
   "name": "python3"
  },
  "language_info": {
   "codemirror_mode": {
    "name": "ipython",
    "version": 3
   },
   "file_extension": ".py",
   "mimetype": "text/x-python",
   "name": "python",
   "nbconvert_exporter": "python",
   "pygments_lexer": "ipython3",
   "version": "3.7.9"
  }
 },
 "nbformat": 4,
 "nbformat_minor": 2
}

{
 "cells": [
  {
   "cell_type": "markdown",
   "id": "5873b6a8",
   "metadata": {},
   "source": [
    "# Eindopdracht Introductie Python"
   ]
  },
  {
   "cell_type": "markdown",
   "id": "878334c8",
   "metadata": {},
   "source": [
    "Tijdens de oefeningen over `class` hebben we de volgende vorm gedefineerd (rechthoek):\n",
    "```Python\n",
    "class Vorm:\n",
    "    def __init__(self,x,y):\n",
    "        self.x = x\n",
    "        self.y = y\n",
    "    def oppervlakte(self):\n",
    "        return self.x * self.y\n",
    "    def omtrek(self):\n",
    "        return 2 * self.x + 2 * self.y\n",
    "```\n",
    "Tijdens deze eindopdracht gaan we een cirkel definiëren.\n",
    "\n",
    "\n",
    "1. Maak een `class` met de naam cirkel met `methods` om de oppervlakte en omtrek te berekenen met een ingegeven straal."
   ]
  },
  {
   "cell_type": "code",
   "execution_count": null,
   "id": "b8c5b073",
   "metadata": {},
   "outputs": [],
   "source": []
  },
  {
   "cell_type": "markdown",
   "id": "e4cecc15",
   "metadata": {},
   "source": [
    "2. Bereken de omtrek en oppervlakte van een cirkel met een diameter van 10 cm. Gebruik de `print` functie om het resultaat leesbaar te presenteren."
   ]
  },
  {
   "cell_type": "code",
   "execution_count": null,
   "id": "f84977bb",
   "metadata": {},
   "outputs": [],
   "source": [
    " "
   ]
  },
  {
   "cell_type": "markdown",
   "id": "b32f1357",
   "metadata": {},
   "source": [
    "3. Maak een `list` met stralen van 1 tot en met 5 cm."
   ]
  },
  {
   "cell_type": "code",
   "execution_count": null,
   "id": "6db6d3a9",
   "metadata": {},
   "outputs": [],
   "source": []
  },
  {
   "cell_type": "markdown",
   "id": "00949af9",
   "metadata": {},
   "source": [
    "4. Bereken voor elke straal in de `list` de oppervlakte en omtrek van een cirkel en presenteer het resultaat op een leesbare manier met de `print` functie."
   ]
  },
  {
   "cell_type": "code",
   "execution_count": null,
   "id": "7dd91e75",
   "metadata": {},
   "outputs": [],
   "source": []
  },
  {
   "cell_type": "markdown",
   "id": "4c09b3ab",
   "metadata": {},
   "source": [
    "5. Breidt het cirkel object uit zodat het een cilinder wordt. Hint: een cilinder bestaat uit 2 cirkels met een hoogte. Maak hierbij gebruik van `inheritance`."
   ]
  },
  {
   "cell_type": "code",
   "execution_count": null,
   "id": "60db23dd",
   "metadata": {},
   "outputs": [],
   "source": []
  },
  {
   "cell_type": "markdown",
   "id": "187bd93e",
   "metadata": {},
   "source": [
    "Bereken de oppervlakte van cilinders met de stralen uit de `list` die je eerder hebt gemaakt."
   ]
  },
  {
   "cell_type": "code",
   "execution_count": null,
   "id": "b06d10ee",
   "metadata": {},
   "outputs": [],
   "source": []
  },
  {
   "cell_type": "markdown",
   "id": "13580b22",
   "metadata": {},
   "source": [
    "## Uitwerking\n",
    "Bekijk hier de video met het resultaat van de eindopdracht."
   ]
  },
  {
   "cell_type": "code",
   "execution_count": 6,
   "id": "e1e9e896",
   "metadata": {},
   "outputs": [
    {
     "data": {
      "image/jpeg": "[encoded data removed]",
      "text/html": [
       "\n",
       "        <iframe\n",
       "            width=\"400\"\n",
       "            height=\"300\"\n",
       "            src=\"https://www.youtube.com/embed/C7H43W7-zOU\"\n",
       "            frameborder=\"0\"\n",
       "            allowfullscreen\n",
       "        ></iframe>\n",
       "        "
      ],
      "text/plain": [
       "<IPython.lib.display.YouTubeVideo at 0x176417c42b0>"
      ]
     },
     "execution_count": 6,
     "metadata": {},
     "output_type": "execute_result"
    }
   ],
   "source": [
    "from IPython.lib.display import YouTubeVideo\n",
    "YouTubeVideo('C7H43W7-zOU')"
   ]
  },
  {
   "cell_type": "code",
   "execution_count": null,
   "id": "bcc72825",
   "metadata": {},
   "outputs": [],
   "source": []
  }
 ],
 "metadata": {
  "kernelspec": {
   "display_name": "Python 3",
   "language": "python",
   "name": "python3"
  },
  "language_info": {
   "codemirror_mode": {
    "name": "ipython",
    "version": 3
   },
   "file_extension": ".py",
   "mimetype": "text/x-python",
   "name": "python",
   "nbconvert_exporter": "python",
   "pygments_lexer": "ipython3",
   "version": "3.6.5"
  }
 },
 "nbformat": 4,
 "nbformat_minor": 5
}

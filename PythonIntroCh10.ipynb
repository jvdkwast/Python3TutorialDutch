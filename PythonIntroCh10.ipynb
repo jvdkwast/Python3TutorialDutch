{
 "cells": [
  {
   "cell_type": "markdown",
   "metadata": {},
   "source": [
    "< [File I/O](PythonIntroCh9.ipynb) | [Inhoud](PythonIntro.ipynb) >"
   ]
  },
  {
   "cell_type": "markdown",
   "metadata": {},
   "source": [
    "# 10. Foutmeldingen afhandelen\n",
    "## 10.1 Introductie\n",
    "Je hebt ze vast al gezien. Foutmeldingen. Exceptions. Problemen. Weet je waar ik het over heb? Ik heb het met dit programma:"
   ]
  },
  {
   "cell_type": "code",
   "execution_count": null,
   "metadata": {},
   "outputs": [],
   "source": [
    "def menu(list, vraag):\n",
    "    for keuze in list:\n",
    "        print(1 + list.index(keuze),end=\"\")\n",
    "        print(\") \" + keuze)\n",
    "\n",
    "    return input(vraag) - 1\n",
    "\n",
    "# voer de functie uit\n",
    "# onthoud wat de backslash doet\n",
    "antwoord = menu(['A','B','C','D','E','F','H','I'],\\\n",
    "'Wat is je favoriete letter? ')\n",
    "\n",
    "print('Je hebt deze letter gekozen: ' + str(antwoord + 1))"
   ]
  },
  {
   "cell_type": "markdown",
   "metadata": {},
   "source": [
    "Dit is slechts een voorbeeld van het menuprogramma dat we eerder hebben gemaakt. Ziet er prima uit. Tenminste tot toen ik het voor het eerst probeerde kreeg ik een foutmelding..."
   ]
  },
  {
   "cell_type": "markdown",
   "metadata": {},
   "source": [
    "## 10.2 Bugs - menselijke fouten\n",
    "De meest voorkomende problemen met je code zijn die van jezelf. Triest, maar waar. Wat zien we als we proberen ons gebrekkige programma uit te voeren?\n",
    "\n",
    "```Python\n",
    "--------------------------------------------------------------------------\n",
    "TypeError                                Traceback (most recent call last)\n",
    "<ipython-input-1-55ea19f3dbca> in <module>\n",
    "      9 # onthoud wat de backslash doet\n",
    "     10 antwoord = menu(['A','B','C','D','E','F','H','I'],\\\n",
    "---> 11 'Wat is je favoriete letter? ')\n",
    "     12 \n",
    "     13 print('Je hebt deze letter gekozen: ' + str(answer + 1))\n",
    "\n",
    "<ipython-input-1-55ea19f3dbca> in menu(list, vraag)\n",
    "      4         print(\") \" + keuze)\n",
    "      5 \n",
    "----> 6     return input(vraag) - 1\n",
    "      7 \n",
    "      8 # voer de functie uit\n",
    "\n",
    "TypeError: unsupported operand type(s) for -: 'str' and 'int'\n",
    "```"
   ]
  },
  {
   "cell_type": "markdown",
   "metadata": {},
   "source": [
    "Wat zeg je? Wat Python je probeert te vertellen (maar moeite heeft om er een goed woord voor te vinden) is dat je een reeks letters en een cijfer niet kunt samenvoegen tot één string. Laten we het foutbericht doornemen en kijken hoe het ons dat vertelt:\n",
    "* `--->` toont de regels waar de fout is gedetecteerd. Je kunt zien dat het eerst regel 11 (de string) aangeeft en dan regel 6 (de berekening waarbij we een geheel getal aftrekken van een string). Merk op dat regel 6 in de functie zat.\n",
    "* `TypeError: unsupported operand type(s) for -: 'str' and 'int'` vertelt je de fout. In dit geval is het een 'TypeError', waarbij je incompatibele variabelen probeerde af te trekken"
   ]
  },
  {
   "cell_type": "markdown",
   "metadata": {},
   "source": [
    "Er zijn meerdere bestands- en codelijsten voor een enkele fout, omdat de fout is opgetreden met de interactie van twee regels code (bijv. bij het gebruik van een functie, deed de fout zich voor op de regel waar de functie werd aangeroepen EN de regel in de functie waar dingen mis gingen).\n",
    "\n",
    "Nu we weten wat het probleem is kunnen we het oplossen. Welnu, het foutbericht heeft geïsoleerd waar het probleem zit, dus we concentreren ons alleen op dat stukje code.\n",
    "\n",
    "```Python\n",
    "antwoord = menu(['A','B','C','D','E','F','H','I'],\\\n",
    "'Wat is je favoriete letter?')\n",
    "```\n",
    "Deze regel roept een functie aan. \n",
    "This is a call to a function. De fout is opgetreden in de functie in de volgende regel:\n",
    "```Python\n",
    "    return input(vraag) - 1\n",
    "```\n",
    "`input` geeft altijd een string terug. Dus hier zit ons probleem. Laten we het veranderen naar `eval(input())`, dat zal als een getal wordt ingegeven ook een getal terug geven:\n",
    "```Python\n",
    "    return eval(input(vraag)) - 1\n",
    "```\n",
    "Bug fixed!"
   ]
  },
  {
   "cell_type": "markdown",
   "metadata": {},
   "source": [
    "## 10.3 Exceptions - beperkingen van de code\n",
    "OK, het programma werkt als je iets normaals doet. Maar wat als je iets raars probeert? Typ een letter (laten we zeggen 'm') in plaats van een cijfer? Oeps!"
   ]
  },
  {
   "cell_type": "code",
   "execution_count": null,
   "metadata": {},
   "outputs": [],
   "source": [
    "def menu(list, vraag):\n",
    "    for keuze in list:\n",
    "        print(1 + list.index(keuze),end=\"\")\n",
    "        print(\") \" + keuze)\n",
    "\n",
    "    return eval(input(vraag)) - 1\n",
    "\n",
    "# voer de functie uit\n",
    "# onthoud wat de backslash doet\n",
    "antwoord = menu(['A','B','C','D','E','F','H','I'],\\\n",
    "'Wat is je favoriete letter? ')\n",
    "\n",
    "print('Je hebt deze letter gekozen: ' + str(antwoord + 1))"
   ]
  },
  {
   "cell_type": "markdown",
   "metadata": {},
   "source": [
    "Er treedt een fout op in regel 11 en de andere in regel 6. Wat dit ons vertelt is dat toen we de menufunctie in regel 10 aanriepen, er een fout optrad in regel 6 (waar we 1 aftrekken). Dit is logisch als je weet wat de functie `input()` doet - ik heb wat gelezen en getest, en realiseerde me dat als je een letter of een woord typt, het aanneemt dat je een variabele noemt! dus in regel 6 proberen we 1 weg te halen van de variabele 'm', die niet bestaat.\n",
    "\n",
    "Heb je geen idee hoe je dit kunt oplossen? Een van de beste en gemakkelijkste manieren is om de operators `try` en `except` te gebruiken.\n",
    "\n",
    "Hier is een voorbeeld van het gebruik van `try` in een programma:\n",
    "\n",
    "```Python\n",
    "try:\n",
    "    function(wereld,parameters)\n",
    "except:\n",
    "    print(wereld.errormsg)\n",
    "```\n",
    "Dit is een voorbeeld van een heel rommelig stukje code dat ik probeerde te repareren. Eerst wordt de code onder `try:` uitgevoerd. Als er een fout is, springt de compiler naar de sectie met `except` en laat vervolgens `wereld.errormsg` zien. Het programma stopt daar niet en crasht ook niet, het voert de code uit onder `except:` en gaat dan verder.\n",
    "\n",
    "Laten we eens proberen waar de fout is opgetreden in onze code (regel 6). De menufunctie is nu:"
   ]
  },
  {
   "cell_type": "code",
   "execution_count": null,
   "metadata": {},
   "outputs": [],
   "source": [
    "def menu(list, vraag):\n",
    "    for keuze in list:\n",
    "        print(1 + list.index(keuze),end=\"\")\n",
    "        print(\") \" + keuze)\n",
    "    try:\n",
    "        return eval(input(vraag)) - 1\n",
    "    except NameError:\n",
    "        print(\"Voer een correct getal in\")\n",
    "\n",
    "# voer de functie uit\n",
    "# onthoud wat de backslash doet\n",
    "antwoord = menu(['A','B','C','D','E','F','H','I'],\\\n",
    "'Wat is je favoriete letter?')\n",
    "\n",
    "print('Je hebt deze letter gekozen: ' + str(antwoord + 1))"
   ]
  },
  {
   "cell_type": "markdown",
   "metadata": {},
   "source": [
    "Probeer een letter in te voeren als je om een getal wordt gevraagd, en kijk wat er gebeurt. O jee! We hebben een probleem opgelost, maar nu heeft het een ander probleem veroorzaakt verderop. Dit gebeurt de hele tijd. Laten we de fout eens bekijken.\n",
    "\n",
    "Wat er deze keer is gebeurd, is dat de menufunctie geen waarde heeft geretourneerd - er is alleen een foutmelding afgedrukt. Wanneer we aan het einde van het programma proberen de geretourneerde waarde plus 1 af te drukken, wat is dan de geretourneerde waarde? Er is geen geretourneerde waarde? Dus wat is 1 + ... nou, we hebben geen idee waar we 1 aan toevoegen!\n",
    "\n",
    "We zouden gewoon elk oud nummer kunnen teruggeven, maar dan zouden we liegen. Wat we echt zouden moeten doen, is het programma herschrijven om met deze uitzondering om te gaan. Met wat dan? `try` en` except`!"
   ]
  },
  {
   "cell_type": "code",
   "execution_count": null,
   "metadata": {},
   "outputs": [],
   "source": [
    "def menu(list, vraag):\n",
    "    for keuze in list:\n",
    "        print(1 + list.index(keuze),end=\"\")\n",
    "        print(\") \" + keuze)\n",
    "    try:\n",
    "        return eval(input(vraag)) - 1\n",
    "    except NameError:\n",
    "        print(\"Voer een correct getal in\")\n",
    "\n",
    "antwoord = menu(['A','B','C','D','E','F','H','I'],\\\n",
    "'Wat is je favoriete letter? ')\n",
    "try:\n",
    "    print(\"Je hebt gekozen: \", (antwoord + 1))\n",
    "    # je kunt dingen achter een komma zetten in de 'print'-instructie,\n",
    "    # en het gaat verder alsof je opnieuw 'print' had ingetikt\n",
    "except:\n",
    "    print(\"\\nFout antwoord.\")\n",
    "    # '\\n' is toegevoegd om het beter weer te geven.\n",
    "    # Probeer het ook zonder en bekijk het verschil."
   ]
  },
  {
   "cell_type": "markdown",
   "metadata": {},
   "source": [
    "Probleem weer opgelost.\n",
    "## 10.4 Eindeloze foutmeldingen\n",
    "De aanpak die we hierboven hebben gebruikt, is niet aan te bevelen. Waarom? Omdat behalve de fout waarvan we weten dat deze kan optreden, `except:` ook elke andere fout opvangt. Wat als dit betekent dat we nooit een fout zien die problemen kan veroorzaken op het circuit? Als `except:` elke fout onder de zon opvangt, hebben we geen hoop om te controleren met welke fouten we te maken hebben en welke andere we willen zien, omdat we ze tot nu toe niet hebben opgemerkt. We hebben ook weinig hoop om met meer dan één type fout in hetzelfde codeblok om te gaan. Wat moet iemand doen als alles hopeloos is? Hier is een voorbeeld van code met een dergelijke situatie:"
   ]
  },
  {
   "cell_type": "code",
   "execution_count": null,
   "metadata": {},
   "outputs": [],
   "source": [
    "print(\"Aftrek programma, v0.0.1 (beta)\")\n",
    "a = eval(input('Voer een getal in om van af te trekken > '))\n",
    "b = eval(input('Voer het getal in om af te trekken > '))\n",
    "print(a - b)"
   ]
  },
  {
   "cell_type": "markdown",
   "metadata": {},
   "source": [
    "Oké, je voert je twee cijfers in en het werkt. Voer een letter in, en het geeft je een `NameError`. Laten we de code herschrijven om alleen met een `NameError` om te gaan. We zullen het programma in een lus plaatsen, dus het herstart als er een fout optreedt (met `continue`, waarmee de lus weer van bovenaf begint, en `break`, die de lus verlaat):"
   ]
  },
  {
   "cell_type": "code",
   "execution_count": null,
   "metadata": {},
   "outputs": [],
   "source": [
    "print(\"Aftrek programma, v0.0.1 (beta)\")\n",
    "loop = 1\n",
    "while loop == 1:\n",
    "    try:\n",
    "        a = eval(input('Voer een getal in om van af te trekken > '))\n",
    "        b = eval(input('Voer het getal in om af te trekken > '))\n",
    "    except NameError:\n",
    "        print(\"\\nJe kan geen letters aftrekken\")\n",
    "        continue\n",
    "    print(a - b)\n",
    "    try:\n",
    "        loop = eval(input('Toets 1 om nogmaals te proberen > '))\n",
    "    except NameError:\n",
    "        loop = 0"
   ]
  },
  {
   "cell_type": "markdown",
   "metadata": {},
   "source": [
    "Hier hebben we de lus opnieuw gestart als je iets verkeerd hebt getypt. In regel 12 gingen we ervan uit dat je het programma wilde afsluiten als je niet op 1 drukte, dus stopten we het programma.\n",
    "\n",
    "Maar er zijn nog steeds problemen. Als we iets blanco laten, of een ongebruikelijk teken typen zoals ! of ;, dan geeft het programma ons een `SyntaxError`. Laten we dit afhandelen. Als we vragen om de getallen af te trekken, geven we een andere foutmelding. Als we vragen om op 1 te drukken, gaan we er opnieuw van uit dat de gebruiker wil stoppen."
   ]
  },
  {
   "cell_type": "code",
   "execution_count": null,
   "metadata": {},
   "outputs": [],
   "source": [
    "print(\"Aftrek programma, v0.0.1 (beta)\")\n",
    "loop = 1\n",
    "while loop == 1:\n",
    "    try:\n",
    "        a = eval(input('Voer een getal in om van af te trekken > '))\n",
    "        b = eval(input('Voer het getal in om af te trekken > '))\n",
    "    except NameError:\n",
    "        print(\"\\nJe kan geen letters aftrekken\")\n",
    "        continue\n",
    "    except SyntaxError:\n",
    "        print(\"\\nAlleen getallen alstublieft.\")\n",
    "        continue\n",
    "    print(a - b)\n",
    "    try:\n",
    "        loop = eval(input('Toets 1 om nogmaals te proberen > '))\n",
    "    except (NameError,SyntaxError):\n",
    "        loop = 0"
   ]
  },
  {
   "cell_type": "markdown",
   "metadata": {},
   "source": [
    "Zoals je kunt zien, kan je meerdere keren `except` gebruiken, die elk een ander probleem afhandelen. Je kunt ze ook samenvoegen in één `except`, door ze tussen haakjes te plaatsen en ze te scheiden met komma's.\n",
    "\n",
    "Nu hebben we een programma dat erg moeilijk is om te crashen door een eindgebruiker. Als laatste uitdaging, kijk of je het kunt laten crashen. Er is één manier die ik kan bedenken: als je het hoofdstuk over menselijke fouten zorgvuldig leest, weet je misschien wat het is...\n",
    "\n",
    "## 10.5 Conclusie\n",
    "Goed gedaan! Je bent aan het eind van de cursus!"
   ]
  },
  {
   "cell_type": "markdown",
   "metadata": {},
   "source": [
    "< [File I/O](PythonIntroCh9.ipynb) | [Inhoud](PythonIntro.ipynb) >"
   ]
  }
 ],
 "metadata": {
  "kernelspec": {
   "display_name": "Python 3",
   "language": "python",
   "name": "python3"
  },
  "language_info": {
   "codemirror_mode": {
    "name": "ipython",
    "version": 3
   },
   "file_extension": ".py",
   "mimetype": "text/x-python",
   "name": "python",
   "nbconvert_exporter": "python",
   "pygments_lexer": "ipython3",
   "version": "3.7.9"
  }
 },
 "nbformat": 4,
 "nbformat_minor": 2
}

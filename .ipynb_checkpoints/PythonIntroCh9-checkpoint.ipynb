{
 "cells": [
  {
   "cell_type": "markdown",
   "metadata": {},
   "source": [
    "< [Modules](PythonIntroCh8.ipynb) | [Inhoud](PythonIntro.ipynb) | [Foutmeldingen afhandelen](PythonIntroCh10.ipynb) >"
   ]
  },
  {
   "cell_type": "markdown",
   "metadata": {},
   "source": [
    "# 9. File I/O\n",
    "## 9.1 Introductie\n",
    "De laatste les hebben we geleerd hoe we externe code in ons programma kunnen laden. Laten we, zonder enige introductie, ingaan op de invoer en uitvoer van bestanden met normale tekst, en later het opslaan en herstellen van instances van classes.\n",
    "\n",
    "## 9.2 Een bestand openen\n",
    "Om een tekstbestand te openen, gebruik je de functie `open()`. Lijkt logisch. Je geeft bepaalde parameters door aan `open()` om aan te geven op welke manier het bestand moet worden geopend - `r` voor alleen lezen,`w` voor alleen schrijven (als er een oud bestand is, wordt het overschreven), `a` voor toevoegen (dingen toevoegen aan het einde van het bestand) en `r+` voor zowel lezen als schrijven. Laten we een normaal tekstbestand (platte tekst) openen, inlezen en weergeven op het scherm:\n",
    "\n",
    "```Python\n",
    "bestand = open('bestandsnaam', 'r')\n",
    "print(bestand.read())\n",
    "```\n",
    "`bestandsnaam` is hier het absolute of relatieve pad naar het bestand. Bijvoorbeeld `'D:\\Pythoncursus\\voorbeeld.txt'`."
   ]
  },
  {
   "cell_type": "markdown",
   "metadata": {},
   "source": [
    "## 9.3 Zoekt en gij zult vinden\n",
    "Heb je voor de tweede keer geprobeerd `print(bestand.read())` in te typen? Is het mislukt? Waarschijnlijk wel, en de reden is dat de 'cursor' van plaats is veranderd. Cursor? Welke cursor? Nou ja, een cursor die je echt niet kunt zien, maar nog steeds een cursor. Deze onzichtbare cursor vertelt de leesfunctie (en vele andere I/O-functies) waar ze moet beginnen. Om in te stellen waar de cursor zich bevindt, gebruik je de functie `seek()`. Het wordt gebruikt in de vorm `seek(offset, van_waar)`.\n",
    "\n",
    "`van_waar` is optioneel en bepaalt waar vandaan moet worden gezocht. Als `van_waar` 0 is, worden de bytes / letters vanaf het begin geteld. Als het 1 is, worden de bytes geteld vanaf de huidige cursorpositie. Als het 2 is, worden de bytes geteld vanaf het einde van het bestand. Als het wordt weggelaten, wordt 0 aangenomen.\n",
    "\n",
    "`offset` beschrijft hoe ver van `van_waar` de cursor moet worden verplaatst. \n",
    "Enkele voorbeelden:\n",
    "* `bestand.seek(45,0)` zal de cursor verplaatsen naar 45 bytes / letters na het begin van het bestand.\n",
    "* `bestand.seek(10,1)` zal de cursor naar 10 bytes / letters na de huidige cursorpositie verplaatsen.\n",
    "* `bestand.seek(-77,2)` zal de cursor verplaatsen naar 77 bytes / letters voor het einde van het bestand (let op de - voor de 77)\n",
    "\n",
    "We kunnen `bestand.seek()` gebruiken om naar een willekeurige plek in het bestand te gaan en dan proberen `print(openfile.read())` te typen. Het wordt afgedrukt vanaf de plek die u zoekt. Maar besef wel dat `bestand.read()` de cursor naar het einde van het bestand verplaatst - je zult opnieuw moeten zoeken."
   ]
  },
  {
   "cell_type": "markdown",
   "metadata": {},
   "source": [
    "## 9.4 Andere I/O Functies\n",
    "Er zijn veel andere functies die je helpen bij het omgaan met bestanden. Ze hebben veel toepassingen die je in staat stellen om meer te doen en de dingen die je wilt doen gemakkelijker te maken. Laten we eens kijken naar `tell()`, `readline()`, `readlines()`, `write()` en `close()`.\n",
    "\n",
    "`tell()` geeft terug waar de cursor in het bestand staat. Het heeft geen parameters, typ het gewoon in (zoals het onderstaande voorbeeld zal laten zien). Dit is oneindig handig om te weten waarnaar je verwijst, waar het is en om de cursor eenvoudig te bedienen. Om het te gebruiken, typ je \n",
    "```Python\n",
    "bestandsobjectnaam.tell()\n",
    "```\n",
    "\n",
    "waarbij `bestandsobjectnaam` de naam is van het bestandsobject dat je aangemaakt hebt toen je het bestand opende (in `bestand = open('bestandsnaam', 'r')` is de bestandsobjectnaam `bestand`).\n",
    "\n",
    "`readline()` leest vanaf waar de cursor zich bevindt tot het einde van de regel. Onthoud dat het einde van de regel niet de rand van je scherm is - de regel eindigt wanneer je op enter drukt om een nieuwe regel te maken. Dit is handig voor zaken als het lezen van een logboek met gebeurtenissen of het geleidelijk doorlopen van iets om het te verwerken. Er zijn geen parameters die je moet doorgeven aan `readline()`, maar je kunt desgewenst aangeven hoeveel bytes / letters er maximaal mogen worden gelezen door een nummer tussen haakjes te zetten. Gebruik het op deze manier:\n",
    "```Python\n",
    "bestandsobjectnaam.readline()\n",
    "```\n",
    "\n",
    "`readlines()` lijkt veel op `readline()`, maar `readlines()` leest alle regels vanaf de cursor en geeft een list terug, waarbij elk listelement een regel code bevat. Gebruik het op deze manier:\n",
    "```Python\n",
    "bestandsobjectnaam.readlines()\n",
    "```\n",
    "\n",
    "Als je bijvoorbeeld het volgende tekstbestand hebt:\n",
    "\n",
    "```\n",
    "Regel 1\n",
    "\n",
    "Regel 3\n",
    "Regel 4\n",
    "\n",
    "Regel 6\n",
    "```\n",
    "dan zal de list die `readlines()` teruggeeft zijn:\n",
    "\n",
    "| Index | Value |\n",
    "| :--: | :--: |\n",
    "| 0 | 'Regel 1' |\n",
    "| 1 | \" |\n",
    "| 2 | 'Regel 3' |\n",
    "| 3 | 'Regel 4' |\n",
    "| 4 | \" |\n",
    "| 5 | 'Regel 6' |\n",
    "\n",
    "De functie `write()` schrijft naar het bestand. Dat had je niet geraden. Het schrijft vanaf waar de cursor zich bevindt en overschrijft de tekst ervoor. Om deze meest doelgerichte functie te gebruiken, plaats je een string tussen de haakjes zoals bijvoorbeeld:\n",
    "```Python\n",
    "bestandsobjectnaam.write('dit is een string')\n",
    "```\n",
    "\n",
    "`close()`, zoals je wellicht denkt, sluit het bestand zodat je het niet meer kunt lezen of ernaar kunt schrijven totdat je het weer opent. Zo simpel is het. Om te gebruiken typ je \n",
    "```Python\n",
    "bestandsobjectnaam.close()\n",
    "```\n",
    "\n",
    "Later in de cursus kun je dit zelf proberen in de Python-opdrachtregel. Open een testbestand (of maak een nieuwe...) en speel met deze functies. Je kunt enkele eenvoudige (en zeer onhandige) tekstbewerkingen uitvoeren."
   ]
  },
  {
   "cell_type": "markdown",
   "metadata": {},
   "source": [
    "## 9.5 Mmm, Pickles\n",
    "Pickles, in Python, worden gegeten. Hun smaak is gewoon te goed om door programmeurs in de koelkast te laten staan.\n",
    "\n",
    "Oké, nu even serieus. Pickles zijn in Python objecten die in een bestand zijn opgeslagen. Een object kan in dit geval een variabele zijn, een instance van een class of een list, dictionary of tuple. Andere dingen kunnen ook worden gepickled, maar met beperkingen. Het object kan dan later worden hersteld of weer worden 'unpickled'. Met andere woorden, je slaat je objecten op.\n",
    "\n",
    "Dus hoe pickelen we? Met de `dump()` functie, die zich in de pickle module bevindt - dus aan het begin van je programma zul je `import pickle` moeten schrijven. Open vervolgens een leeg bestand en gebruik `pickle.dump()` om het object in dat bestand neer te zetten. Laten we dat proberen:\n",
    "\n",
    "```Python\n",
    "### pickletest.py\n",
    "### PICKLE EEN OBJECT\n",
    "\n",
    "# importeer de pickle module\n",
    "import pickle\n",
    "\n",
    "# laten we iets maken om te pickelen\n",
    "# Wat dacht je van een list?\n",
    "picklelist = ['een',2,'drie','vier',5,'kan je tellen?']\n",
    "\n",
    "# maak nu een bestand\n",
    "# vervang bestandsnaam met het bestand dat je wilt maken\n",
    "# wb betekent dat we een binair bestand wegschrijven\n",
    "bestand = open('bestandsnaam', 'wb')\n",
    "\n",
    "# we gaan nu de list opslaan in het bestand\n",
    "pickle.dump(picklelist,bestand)\n",
    "\n",
    "# sluit het bestand en je bent klaar met pickelen\n",
    "bestand.close()\n",
    "```\n",
    "\n",
    "De code om dit te doen is met `pickle.dump(object_om_te_pickelen, bestand_object)` waar:\n",
    "* `object_om_te_pickelen` is het object dat je wilt pickelen (d.w.z. opslaan in een bestand)\n",
    "* `bestand_object` is het bestandsobject waarnaar je wilt schrijven (in dit geval is het bestandsobject `bestand`)"
   ]
  },
  {
   "cell_type": "markdown",
   "metadata": {},
   "source": [
    "Om je bestand nu opnieuw te openen of te 'unpickelen', gebruiken we `pickle.load()`:\n",
    "```Python\n",
    "### unpickletest.py\n",
    "### unpickle bestand\n",
    "\n",
    "# importeer de pickle module\n",
    "import pickle\n",
    "\n",
    "# open nu een bestand dat we inlezen\n",
    "# vervang bestandsnaam met het pad naar het bestand dat je gemaakt hebt in pickletest.py\n",
    "unpicklebestand = open('bestandsnaam', 'rb')\n",
    "\n",
    "# laad nu de eerder opgeslagen lijst in een nieuw object\n",
    "unpickledlist = pickle.load(unpicklefile)\n",
    "\n",
    "# sluit het bestand af\n",
    "unpicklebestand.close()\n",
    "\n",
    "# Toon het resultaat\n",
    "for item in unpickledlist:\n",
    "    print(item)\n",
    "```\n",
    "Handig, hè?\n",
    "\n",
    "De bovenstaande beperking is natuurlijk dat we maar één object in een bestand kunnen plaatsen. We zouden dit kunnen omzeilen door veel pickable objecten in een list of dictionary te plaatsen en die list of dictionary vervolgens te pickelen. Dit is de snelste en gemakkelijkste manier, maar je kunt behoorlijk geavanceerde dingen doen als je gevorderde kennis van pickles hebt.\n",
    "    \n",
    "Dat zullen we niet behandelen."
   ]
  },
  {
   "cell_type": "markdown",
   "metadata": {},
   "source": [
    "< [Modules](PythonIntroCh8.ipynb) | [Inhoud](PythonIntro.ipynb) | [Foutmeldingen afhandelen](PythonIntroCh10.ipynb) >"
   ]
  }
 ],
 "metadata": {
  "kernelspec": {
   "display_name": "Python 3",
   "language": "python",
   "name": "python3"
  },
  "language_info": {
   "codemirror_mode": {
    "name": "ipython",
    "version": 3
   },
   "file_extension": ".py",
   "mimetype": "text/x-python",
   "name": "python",
   "nbconvert_exporter": "python",
   "pygments_lexer": "ipython3",
   "version": "3.6.5"
  }
 },
 "nbformat": 4,
 "nbformat_minor": 2
}

{
 "cells": [
  {
   "cell_type": "markdown",
   "metadata": {},
   "source": [
    "< [Classes](PythonIntroCh7.ipynb) | [Inhoud](PythonIntro.ipynb) | [File I/O](PythonIntroCh9.ipynb) >"
   ]
  },
  {
   "cell_type": "markdown",
   "metadata": {},
   "source": [
    "# 8. Modules\n",
    "## 8.1 Introductie\n",
    "De laatste les hebben we het onderwerp Classes behandeld. Je hebt geleerd dat classes nette combinaties zijn van variabelen en functies in een mooi, overzichtelijk pakket. Programmeerjargon noemen we dat inkapseling (*encapsulation*). Maar ongeacht hoe het wordt genoemd, classes zijn heel handig om dingen bij elkaar te houden, zodat de code in veel gevallen op veel plaatsen kan worden hergebruikt. Maar hoe kan je je classes hergebruiken in andere programma's? Het antwoord is om ze in een *module* te plaatsen, zodat ze in andere programma's kunnen worden geïmporteerd. "
   ]
  },
  {
   "cell_type": "markdown",
   "metadata": {},
   "source": [
    "## 8.2 Wat is een module?\n",
    "Een module is een Python-bestand dat (doorgaans) alleen definities van variabelen, functies en classes heeft. Dit is een voorbeeld van een module die we kunnen opslaan in het bestand `moduletest.py`:\n",
    "\n",
    "```Python\n",
    "### VOORBEELD PYTHON MODULE\n",
    "# Definieer enkele variabelen:\n",
    "eerste = 1\n",
    "leeftijd = 78\n",
    "\n",
    "# Definieer enkele functies\n",
    "def printhallo():\n",
    "    print(\"hallo\")\n",
    "    \n",
    "def maalvier(input):\n",
    "    print(eval(input) * 4)\n",
    "    \n",
    "# Definieer een class\n",
    "class Piano:\n",
    "    def __init__(self):\n",
    "        self.type = input(\"Welk type piano? \")\n",
    "        self.hoogte = input(\"Welke hoogte (in meters)? \")\n",
    "        self.prijs = input(\"Hoeveel kostte het (in euros)? \")\n",
    "        self.leeftijdpiano = input(\"Hoe oud is het (in jaren)? \")\n",
    "\t\n",
    "    def printdetails(self):\n",
    "        print(\"Deze piano is \" + self.hoogte + \" meter hoog\", end=\" \")\n",
    "        print(self.type, \", \" + self.leeftijd, \"jaar oud en kost\\\n",
    "        \" + self.prijs + \" euros.\")\n",
    "```\n",
    "Zoals je ziet, ziet een module er ongeveer hetzelfde uit als je normale Python-programma.\n",
    "\n",
    "Dus wat doen we met een module? We 'importeren' stukjes ervan (of alles) in andere programma's.\n",
    "\n",
    "Om alle variabelen, functies en classes van `moduletest.py` te importeren in een ander programma dat je aan het schrijven bent, gebruiken we de `import` operator. Om bijvoorbeeld `moduletest.py` in je hoofdprogramma (`hoofdprogramma.py`) te importeren, doe je dit:\n",
    "\n",
    "```Python\n",
    "### hoofdprogramma.py\n",
    "### IMPORTEER EEN ANDERE MODULE\n",
    "import moduletest\n",
    "```\n",
    "Dit veronderstelt dat de module zich in dezelfde map bevindt als `hoofdprogramma.py`, of een standaardmodule is die bij Python wordt geleverd. Je laat de `.py` achter de bestandsnaam weg - deze wordt genegeerd. Normaal gesproken plaats je alle `import`-instructies aan het begin van het Python-bestand, maar technisch gezien kunnen ze overal staan. Om de onderdelen van de module in je hoofdprogramma te gebruiken, gebruik je het volgende:\n",
    "\n",
    "```Python\n",
    "### EEN GEÏMPORTEERDE MODULE GEBRUIKEN\n",
    "# Gebruik de vorm modulenaam.onderdeelnaam\n",
    "# Voorbeelden:\n",
    "print(moduletest.leeftijd)\n",
    "cfcpiano = moduletest.Piano()\n",
    "cfcpiano.printdetails()\n",
    "```\n",
    "Zoals je ziet, gedragen de modules die je importeert zich heel erg als de classes die we in de vorige les hebben bekeken - alles erin moet worden voorafgegaan door `modulenaam` om het te laten werken."
   ]
  },
  {
   "cell_type": "markdown",
   "metadata": {},
   "source": [
    "## 8.3 Meer om te weten over modules\n",
    "Zou je willen dat je het gedeelte `modulenaam` dat je voor elk onderdeel dat je uit een module gebruikt kon weglaten? Dat kan!\n",
    "\n",
    "Een manier om dit gedoe te voorkomen, is door alleen de gewenste objecten uit de module te importeren. Om dit te doen, gebruik je de `from` operator. Je gebruikt het in de volgende vorm: `from modulenaam import onderdeel`. Hier is een voorbeeld: \n",
    "\n",
    "```Python\n",
    "### IMPORTEER BEPAALDE ONDERDELEN VAN EEN MODULE\n",
    "# importeer ze\n",
    "from moduletest import leeftijd\n",
    "from moduletest import printhallo\n",
    "\n",
    "# nu gaan we ze gebruiken\n",
    "print(leeftijd)\n",
    "printhallo()\n",
    "```\n",
    "Wat heeft dit voor zin? Nou, misschien zou je het kunnen gebruiken om je code een beetje leesbaarder te maken. Als we in een berg van modules in modules terechtkomen, kan het ook een hoop verwarring voorkomen.\n",
    "\n",
    "Als je zou willen, zou je op deze manier alles uit een module kunnen importeren door `from modulenaam import *` te gebruiken. Dit kan natuurlijk lastig zijn als er objecten in je programma staan met dezelfde naam als sommige onderdelen in de module. Bij grote modules kan dit gemakkelijk gebeuren en kan dit veel hoofdpijn veroorzaken. Een betere manier om dit te doen is door een module op de normale manier te importeren (zonder de `from`-operator) en vervolgens onderdelen aan een lokale naam toe te wijzen:\n",
    "\n",
    "```Python\n",
    "### Onderdelen aan een lokale naam toewijzen\n",
    "# Toewijzen aan een lokale naam\n",
    "keervier = moduletest.keervier\n",
    "\n",
    "# De lokale naam gebruiken\n",
    "print(keervier(565))\n",
    "```\n",
    "Op deze manier kun je wat helderheid scheppen EN alle items uit een bepaalde module hebben.\n",
    "\n",
    "Een laatste handige manier om modules te importeren is met een alias. Misschien wil je een naam wijzigen omdat je dezelfde naam al voor iets anders in je programma hebt gebruikt, een andere module die je hebt geïmporteerd dezelfde naam gebruikt, of misschien wil je een langere naam die je veel gebruikt afkorten.  We kunnen dan de `as` operator gebruiken. Dat ziet er zo uit:\n",
    "\n",
    "```Python\n",
    "### IMPORTEER EEN MODULE MET EEN ALIAS\n",
    "# importeer module\n",
    "import moduletest as mt\n",
    "\n",
    "# module gebruiken\n",
    "print(mt.leeftijd)\n",
    "cfcpiano = mt.Piano()\n",
    "cfcpiano.printdetails()\n",
    "```\n",
    "\n",
    "## 8.4 Conclusie\n",
    "Dat is het! Een heel eenvoudige les, maar nu kun je je programma's heel netjes organiseren. In feite is het nu ongelooflijk eenvoudig om programma's te maken die in complexiteit kunnen groeien zonder te eindigen met één cryptisch bestand vol bugs.\n",
    "Modules zijn geweldig voor het importeren van code. De volgende les leren we over het invoeren en uitvoeren van bestanden en het opslaan van informatie in classes, die later kunnen worden opgehaald."
   ]
  },
  {
   "cell_type": "markdown",
   "metadata": {},
   "source": [
    "< [Classes](PythonIntroCh7.ipynb) | [Inhoud](PythonIntro.ipynb) | [File I/O](PythonIntroCh9.ipynb) >"
   ]
  }
 ],
 "metadata": {
  "kernelspec": {
   "display_name": "Python 3",
   "language": "python",
   "name": "python3"
  },
  "language_info": {
   "codemirror_mode": {
    "name": "ipython",
    "version": 3
   },
   "file_extension": ".py",
   "mimetype": "text/x-python",
   "name": "python",
   "nbconvert_exporter": "python",
   "pygments_lexer": "ipython3",
   "version": "3.6.5"
  }
 },
 "nbformat": 4,
 "nbformat_minor": 2
}

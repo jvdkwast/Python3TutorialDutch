{
 "cells": [
  {
   "cell_type": "markdown",
   "metadata": {},
   "source": [
    "< [Eenvoudige 'programma's](PythonIntroCh1.ipynb) >"
   ]
  },
  {
   "cell_type": "markdown",
   "metadata": {},
   "source": [
    "# Introductie Python 3\n",
    "\n",
    "\n",
    "## Inhoud\n",
    "### __[Les 1: Eenvoudige 'programma's'](PythonIntroCh1.ipynb)__\n",
    "### __[Les 2: Programma's in een bestand en variabelen](PythonIntroCh2.ipynb)__\n",
    "### __[Les 3: Loops, Loops, Loops, Loops...](PythonIntroCh3.ipynb)__\n",
    "### __[Les 4: Functies](PythonIntroCh4.ipynb)__\n",
    "### __[Les 5: Tuples, Lists en Dictionaries](PythonIntroCh5.ipynb)__\n",
    "### __[Les 6: For Loop](PythonIntroCh6.ipynb)__\n",
    "### __[Les 7: Classes](PythonIntroCh7.ipynb)__\n",
    "### __[Les 8: Modules](PythonIntroCh8.ipynb)__\n",
    "### __[Les 9: File I/O](PythonIntroCh9.ipynb)__\n",
    "### __[Les 10: Foutmeldingen afhandelen](PythonIntroCh10.ipynb)__\n",
    "\n",
    "\n",
    "-----------------------\n",
    "Door __[Hans van der Kwast](http://www.linkedin.com/in/jvdkwast)__\n",
    "\n",
    "__[IHE Delft Institute for Water Education](http://www.un-ihe.org)__\n",
    "\n",
    "Twitter: @hansakwast\n",
    "\n",
    "In opdracht van [Geosparc](https://www.geosparc.com)\n",
    "\n"
   ]
  },
  {
   "cell_type": "markdown",
   "metadata": {},
   "source": [
    "< [Eenvoudige 'programma's](PythonIntroCh1.ipynb) >"
   ]
  }
 ],
 "metadata": {
  "kernelspec": {
   "display_name": "Python 3",
   "language": "python",
   "name": "python3"
  },
  "language_info": {
   "codemirror_mode": {
    "name": "ipython",
    "version": 3
   },
   "file_extension": ".py",
   "mimetype": "text/x-python",
   "name": "python",
   "nbconvert_exporter": "python",
   "pygments_lexer": "ipython3",
   "version": "3.6.5"
  }
 },
 "nbformat": 4,
 "nbformat_minor": 2
}

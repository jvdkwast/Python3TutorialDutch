{
 "cells": [
  {
   "cell_type": "markdown",
   "metadata": {},
   "source": [
    "< [Eenvoudige 'programma's](PythonIntroCh1.ipynb) >"
   ]
  },
  {
   "cell_type": "markdown",
   "metadata": {},
   "source": [
    "# Introductie Python 3\n",
    "Door __[Hans van der Kwast](http://www.linkedin.com/in/jvdkwast)__<br>\n",
    "__[IHE Delft Institute for Water Education](http://www.un-ihe.org)__<br>\n",
    "Twitter: @hansakwast\n",
    "\n",
    "\n",
    "## Inhoud\n",
    "### __[Les 1: Eenvoudige 'programma's'](PythonIntroCh1.ipynb)__\n",
    "### __[Les 2: Programma's in een bestand en variabelen](PythonIntroCh2.ipynb)__\n",
    "### __[Les 3: Loops, Loops, Loops, Loops...](PythonIntroCh3.ipynb)__\n",
    "### __[Les 4: Functies](PythonIntroCh4.ipynb)__\n",
    "### __[Les 5: Tuples, Lists en Dictionaries](PythonIntroCh5.ipynb)__\n",
    "### __[Les 6: For Loop](PythonIntroCh6.ipynb)__\n",
    "### __[Les 7: Classes](PythonIntroCh7.ipynb)__\n",
    "### __[Les 8: Modules](PythonIntroCh8.ipynb)__\n",
    "### __[Les 9: File I/O](PythonIntroCh9.ipynb)__\n",
    "### __[Les 10: Foutmeldingen afhandelen](PythonIntroCh10.ipynb)__\n",
    "<br>\n",
    "<br>\n",
    "\n",
    "*Dit Jupyter Notebook is ontwikkeld op basis van \"A Beginner's Python Tutorial\" by Steven Thurlow. Het __[originele materiaal](https://github.com/stoive/pythontutorial)__ is omgezet naar Python 3 in Jupyter Notebook formaat en vertaald naar het Nederlands.*\n",
    "\n"
   ]
  },
  {
   "cell_type": "markdown",
   "metadata": {},
   "source": [
    "< [Eenvoudige 'programma's](PythonIntroCh1.ipynb) >"
   ]
  }
 ],
 "metadata": {
  "kernelspec": {
   "display_name": "Python 3",
   "language": "python",
   "name": "python3"
  },
  "language_info": {
   "codemirror_mode": {
    "name": "ipython",
    "version": 3
   },
   "file_extension": ".py",
   "mimetype": "text/x-python",
   "name": "python",
   "nbconvert_exporter": "python",
   "pygments_lexer": "ipython3",
   "version": "3.7.9"
  }
 },
 "nbformat": 4,
 "nbformat_minor": 2
}

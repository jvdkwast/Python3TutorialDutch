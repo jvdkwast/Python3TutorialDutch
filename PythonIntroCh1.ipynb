{
 "cells": [
  {
   "cell_type": "markdown",
   "metadata": {},
   "source": [
    "< [Inhoud](PythonIntro.ipynb) | [Programma's in een bestand en variabelen](PythonIntroCh2.ipynb) >"
   ]
  },
  {
   "cell_type": "markdown",
   "metadata": {},
   "source": [
    "# 1. Eenvoudige 'programma's'\n",
    "## 1.1 Python gebruiken vanaf de command line\n",
    "Om stukken code te testen kunnen we Python gebruiken vanaf de command line interface (CLI). In dit Jupyter Notebook gaan we dat simuleren. Je kan de code typen in de invoervelden en uitvoeren.\n",
    "\n",
    "Typ in het invoerveld hieronder:\n",
    "```Python\n",
    "print('Hallo, Wereld')\n",
    "```\n",
    "Gebruik `<shift> + <return>` om de code uit te voeren."
   ]
  },
  {
   "cell_type": "code",
   "execution_count": null,
   "metadata": {},
   "outputs": [],
   "source": [
    "print('Hallo, Wereld')"
   ]
  },
  {
   "cell_type": "markdown",
   "metadata": {},
   "source": [
    "Wat gebeurde er?\n",
    "\n",
    "Je hebt zojuist een programma gemaakt dat de woorden 'Hallo, Wereld' print op het scherm. De Python omgeving waarin je nu werkt compileert direct wat je hebt ingetikt. Dit is nuttig voor het testen van code. Bijvoorbeeld als je een  aantal variabelen definieert en vervolgens wilt testen of een regel code werkt. Dat zullen we in een latere les nog wel zien."
   ]
  },
  {
   "cell_type": "markdown",
   "metadata": {},
   "source": [
    "## 1.2 Wiskunde in Python\n",
    "Typ\n",
    "```python\n",
    "1 + 1\n",
    "```\n",
    "en voer de code uit."
   ]
  },
  {
   "cell_type": "code",
   "execution_count": null,
   "metadata": {
    "scrolled": true
   },
   "outputs": [],
   "source": []
  },
  {
   "cell_type": "markdown",
   "metadata": {},
   "source": [
    "Typ nu\n",
    "```python\n",
    "20 + 80\n",
    "```\n",
    "en voer de code uit."
   ]
  },
  {
   "cell_type": "code",
   "execution_count": null,
   "metadata": {},
   "outputs": [],
   "source": []
  },
  {
   "cell_type": "markdown",
   "metadata": {},
   "source": [
    "Dit zijn optellingen. We kunnen natuurlijk ook ander wiskundige operatoren gebruiken.<br>\n",
    "Probeer dit:\n",
    "```python\n",
    "6 - 5\n",
    "```"
   ]
  },
  {
   "cell_type": "code",
   "execution_count": null,
   "metadata": {},
   "outputs": [],
   "source": []
  },
  {
   "cell_type": "markdown",
   "metadata": {},
   "source": [
    "en deze vermenigvuldiging:<br>\n",
    "```python\n",
    "2 * 5\n",
    "```"
   ]
  },
  {
   "cell_type": "code",
   "execution_count": null,
   "metadata": {},
   "outputs": [],
   "source": []
  },
  {
   "cell_type": "markdown",
   "metadata": {},
   "source": [
    "Probeer:\n",
    "```python\n",
    "5 ** 2\n",
    "```"
   ]
  },
  {
   "cell_type": "code",
   "execution_count": null,
   "metadata": {},
   "outputs": [],
   "source": []
  },
  {
   "cell_type": "markdown",
   "metadata": {},
   "source": [
    "`**` is de exponentiële operator, dus hebben we 5 kwadraat uitgevoerd. "
   ]
  },
  {
   "cell_type": "markdown",
   "metadata": {},
   "source": [
    "Typ:\n",
    "```python\n",
    "print('1 + 2 is een optelling')\n",
    "```"
   ]
  },
  {
   "cell_type": "code",
   "execution_count": null,
   "metadata": {},
   "outputs": [],
   "source": []
  },
  {
   "cell_type": "markdown",
   "metadata": {},
   "source": [
    "Je ziet dat we met `print` iets naar het scherm kunnen schrijven.\n",
    "\n",
    "Probeer dit:\n",
    "```python\n",
    "print('een kilobyte is 2^10 bytes, of', 2 ** 10, 'bytes')\n",
    "```"
   ]
  },
  {
   "cell_type": "code",
   "execution_count": null,
   "metadata": {},
   "outputs": [],
   "source": [
    "print('een kilobyte is 2^10 bytes, of', 2 ** 10, 'bytes')"
   ]
  },
  {
   "cell_type": "markdown",
   "metadata": {},
   "source": [
    "Hiermee hebben we aangetoond dat we zowel tekst als berekingen kunnen tonen in een zin. De komma's scheiden strings (tekst) van berekeningen of variabelen."
   ]
  },
  {
   "cell_type": "markdown",
   "metadata": {},
   "source": [
    "Probeer nu dit:\n",
    "```python\n",
    "23 / 3\n",
    "```"
   ]
  },
  {
   "cell_type": "code",
   "execution_count": null,
   "metadata": {},
   "outputs": [],
   "source": []
  },
  {
   "cell_type": "markdown",
   "metadata": {},
   "source": [
    "En dit:\n",
    "```python\n",
    "23 % 3\n",
    "```"
   ]
  },
  {
   "cell_type": "code",
   "execution_count": null,
   "metadata": {},
   "outputs": [],
   "source": [
    "2"
   ]
  },
  {
   "cell_type": "markdown",
   "metadata": {},
   "source": [
    "`%` geeft het restant van de deling terug."
   ]
  },
  {
   "cell_type": "markdown",
   "metadata": {},
   "source": [
    "## 1.3 Volgorde van de berekeningen"
   ]
  },
  {
   "cell_type": "markdown",
   "metadata": {},
   "source": [
    "Python volgt dezelfde rekenvolgorde als gebruikelijk in wiskunde. Ter herinnering:\n",
    "1. Haakjes `()`\n",
    "2. Machtverheffen `**`\n",
    "3. Vermenigvuldigen `*`, delen `/` en restant `%`\n",
    "4. Optellen `+` en aftrekken `-`"
   ]
  },
  {
   "cell_type": "markdown",
   "metadata": {},
   "source": [
    "Hier zijn enkele voorbeelden die je zou kunnen proberen om dit te demonstreren.\n",
    "```python\n",
    "1 + 2 * 3\n",
    "(1 + 2) * 3\n",
    "```"
   ]
  },
  {
   "cell_type": "code",
   "execution_count": null,
   "metadata": {},
   "outputs": [],
   "source": []
  },
  {
   "cell_type": "code",
   "execution_count": null,
   "metadata": {},
   "outputs": [],
   "source": []
  },
  {
   "cell_type": "markdown",
   "metadata": {},
   "source": [
    "## 1.4 Opmerkingen alstublieft\n",
    "Het laatste dat je moet weten voordat we verder gaan met programma's die bestaan uit meerdere regels code is hoe je opmerkingen in de code kunt plaatsen.\n",
    "\n",
    "Typ het volgende en voer het uit:\n",
    "\n",
    "```python\n",
    "# Ik ben een opmerking. Dat is opmerkelijk!\n",
    "```"
   ]
  },
  {
   "cell_type": "code",
   "execution_count": null,
   "metadata": {},
   "outputs": [],
   "source": []
  },
  {
   "cell_type": "markdown",
   "metadata": {},
   "source": [
    "Een opmerking (*comment*) is een stuk code dat niet wordt uitgevoerd. In Python verander je code in een opmerking door er een hekje (*hash*) voor te plaatsen. Alles na het hekje is dan commentaar\n",
    "Kijk eens wat er gebeurd als je dit typt en uitvoert:\n",
    "```python\n",
    "print(\"eten is erg lekker\") #eet mij op\n",
    "```"
   ]
  },
  {
   "cell_type": "code",
   "execution_count": null,
   "metadata": {},
   "outputs": [],
   "source": []
  },
  {
   "cell_type": "markdown",
   "metadata": {},
   "source": [
    "Dit resulteert in een normale output, zonder de smerige opmerking, heel erg bedankt.\n",
    "\n",
    "Probeer nu dit:\n",
    "```python\n",
    "# print(\"eten is erg lekker\")\n",
    "```"
   ]
  },
  {
   "cell_type": "code",
   "execution_count": null,
   "metadata": {},
   "outputs": [],
   "source": []
  },
  {
   "cell_type": "markdown",
   "metadata": {},
   "source": [
    "Er gebeurt niets, omdat er een hekje voor de code staat. Daardoor is het een opmerking geworden."
   ]
  },
  {
   "cell_type": "markdown",
   "metadata": {},
   "source": [
    "Opmerkingen zijn belangrijk om de nodige informatie toe te voegen die een andere programmeur kan lezen, maar niet de computer. Bijvoorbeeld een uitleg van een gedeelte van de code, zeggen wat het doet of wat er mis mee is. Je kunt ook stukjes code becommentariëren door er een `#` voor te plaatsen - als je niet wilt dat het compileert, maar je het niet kunt verwijderen omdat je het later misschien nodig hebt. "
   ]
  },
  {
   "cell_type": "markdown",
   "metadata": {},
   "source": [
    "< [Inhoud](PythonIntro.ipynb) | [Programma's in een bestand en variabelen](PythonIntroCh2.ipynb) >"
   ]
  }
 ],
 "metadata": {
  "kernelspec": {
   "display_name": "Python 3",
   "language": "python",
   "name": "python3"
  },
  "language_info": {
   "codemirror_mode": {
    "name": "ipython",
    "version": 3
   },
   "file_extension": ".py",
   "mimetype": "text/x-python",
   "name": "python",
   "nbconvert_exporter": "python",
   "pygments_lexer": "ipython3",
   "version": "3.7.9"
  }
 },
 "nbformat": 4,
 "nbformat_minor": 2
}

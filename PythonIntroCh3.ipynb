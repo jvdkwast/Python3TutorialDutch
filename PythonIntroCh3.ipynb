{
 "cells": [
  {
   "cell_type": "markdown",
   "metadata": {},
   "source": [
    "< [Programma's in een bestand en variabelen](PythonIntroCh2.ipynb) | [Inhoud](PythonIntro.ipynb) | [Functies](PythonIntroCh4.ipynb) >"
   ]
  },
  {
   "cell_type": "markdown",
   "metadata": {},
   "source": [
    "# 3. Loops, Loops, Loops, Loops...\n",
    "## 3.1 Introductie\n",
    "\n",
    "Stel je voor dat je een programma nodig hebt om iets 20 keer te doen. Wat zou jij doen? Je zou de code 20 keer kunnen kopiëren en plakken, en je hebt een vrijwel onleesbaar programma, om nog maar te zwijgen over dat het traag en zinloos is. Je zou de computer kunnen ook vertellen om een stukje code te herhalen tussen punt A en punt B, totdat het moment komt dat het nodig is om te stoppen. Zoiets wordt een lus (*loop*) genoemd. \n",
    "\n",
    "\n",
    "## 3.2 De 'While' lus\n",
    "Hier volgen enkele voorbeelden van een type lus, de `while`-lus genoemd: \n"
   ]
  },
  {
   "cell_type": "code",
   "execution_count": null,
   "metadata": {},
   "outputs": [],
   "source": [
    "a = 0\n",
    "while a < 10:\n",
    "    a = a + 1\n",
    "    print(a)"
   ]
  },
  {
   "cell_type": "markdown",
   "metadata": {},
   "source": [
    "Hoe werkt dit programma? Laten we het in het Nederlands doornemen: \n",
    "```\n",
    "'a' is nu gelijk aan 0\n",
    "Zolang 'a' kleiner is dan 10, doe dan het volgende:\n",
    "   Tel 1 op bij de huidige waarde van 'a'.\n",
    "   Print de nieuwe waarde van 'a' op het scherm.\n",
    "```"
   ]
  },
  {
   "cell_type": "markdown",
   "metadata": {},
   "source": [
    "Wat doet dit? Laten we eens kijken wat de computer zou 'denken' als deze zich in de `while`-lus bevindt:"
   ]
  },
  {
   "cell_type": "markdown",
   "metadata": {},
   "source": [
    "```\n",
    "# KIJK HIER EVEN SNEL NAAR\n",
    "# (Het ziet er indrukwekkend uit, maar het is heel eenvoudig)\n",
    "Is 'a' kleiner dan 10? JA (het is 0)\n",
    "Tel 1 op bij 'a' (nu 1)\n",
    "op het scherm afdrukken wat 'a' is (1)\n",
    "\n",
    "Is 'a' kleiner dan 10? JA (zijn 1)\n",
    "Tel 1 op bij 'a' (nu 2)\n",
    "op het scherm afdrukken wat 'a' is (2)\n",
    "\n",
    "Is 'a' kleiner dan 10? JA (zijn 2)\n",
    "Tel 1 op bij 'a' (nu 3)\n",
    "op het scherm afdrukken wat 'a' is (3)\n",
    "\n",
    "Is 'a' kleiner dan 10? JA (zijn 3)\n",
    "Tel 1 op bij 'a' (nu 4)\n",
    "op het scherm afdrukken wat 'a' is (4)\n",
    "\n",
    "Is 'a' kleiner dan 10? JA (zijn 4)\n",
    "Tel 1 op bij 'a' (nu 5)\n",
    "op het scherm afdrukken wat 'a' is (5)\n",
    "\n",
    "Is 'a' kleiner dan 10? JA (zijn 5)\n",
    "Tel 1 op bij 'a' (nu 6)\n",
    "op het scherm afdrukken wat 'a' is (6)\n",
    "\n",
    "Is 'a' kleiner dan 10? JA (zijn 6)\n",
    "Tel 1 op bij 'a' (nu 7)\n",
    "op het scherm afdrukken wat 'a' is (7)\n",
    "\n",
    "Is 'a' kleiner dan 10? JA (ben je er nog?)\n",
    "Tel 1 op bij 'a' (nu 8)\n",
    "op het scherm afdrukken wat 'a' is (8)\n",
    "\n",
    "Is 'a' kleiner dan 10? JA (zijn 8)\n",
    "Tel 1 op bij 'a' (nu 9)\n",
    "op het scherm afdrukken wat 'a' is (9)\n",
    "\n",
    "Is 'a' kleiner dan 10? JA (zijn 9)\n",
    "Tel 1 op bij 'a' (nu 10)\n",
    "op het scherm afdrukken wat 'a' is (10)\n",
    "\n",
    "Is 'a' kleiner dan 10? NEE (het is 10, dus niet minder dan 10)\n",
    "Doe de lus niet\n",
    "Er is geen code meer om iets mee te doen, dus het programma eindigt \n",
    "```"
   ]
  },
  {
   "cell_type": "markdown",
   "metadata": {},
   "source": [
    "Dus in het kort, probeer er zo over te denken als je 'while'-loops schrijft. Dit is trouwens hoe je ze schrijft (syntaxis):\n",
    "```\n",
    "while {voorwaarde dat de lus doorgaat}:\n",
    "     {wat te doen in de lus}\n",
    "     {laten inspringen, meestal vier spaties}\n",
    "de code hier is geen onderdeel van de lus\n",
    "omdat het niet is ingesprongen\n",
    "```"
   ]
  },
  {
   "cell_type": "markdown",
   "metadata": {},
   "source": [
    "Probeer nu dit voorbeeld te begrijpen en voer het uit om te zien of het is wat je had verwacht. "
   ]
  },
  {
   "cell_type": "code",
   "execution_count": null,
   "metadata": {},
   "outputs": [],
   "source": [
    "x = 10\n",
    "while x != 0:\n",
    "    print(x)\n",
    "    x = x - 1\n",
    "    print(\"wauw, we hebben afgeteld, en nu is x gelijk aan\", x)\n",
    "print(\"And now the loop has ended.\")"
   ]
  },
  {
   "cell_type": "markdown",
   "metadata": {},
   "source": [
    "## 3.3 Boolean Expressions\n",
    "Wat je typt als '{voorwaarde dat de lus doorgaat}' is een booleaanse uitdrukking.\n",
    "Een booleaanse uitdrukking (*Boolean expression*) is een vraag die alleen kan worden beantwoord met een WAAR of ONWAAR antwoord. Als u bijvoorbeeld wilt zeggen dat uw leeftijd dezelfde is als die van de persoon naast u, typt u: \n",
    "\n",
    "`Mijn leeftijd == de leeftijd van de persoon naast mij`\n",
    "\n",
    "En de verklaring zou WAAR zijn. Als je jonger was dan de persoon aan de overkant, zou je zeggen:\n",
    "\n",
    "`Mijn leeftijd < de leeftijd van de persoon naast mij`\n",
    "\n",
    "En de verklaring zou WAAR zijn. Als u echter het volgende zou zeggen, en de persoon tegenover u was jonger dan u: \n",
    "\n",
    "`Mijn leeftijd < de leeftijd van de persoon naast mij`\n",
    "\n",
    "De bewering zou ONWAAR zijn - de waarheid is dat het andersom is. Dit is hoe een lus denkt - als de uitdrukking waar is, blijf dan herhalen. Als het onwaar is, loop dan niet door. Laten we met dit in gedachten eens kijken naar de operatoren (symbolen die een actie vertegenwoordigen) die betrokken zijn bij booleaanse expressies:\n",
    "\n",
    "| Expression | Function  |\n",
    "|   :---:    |   :---:   |\n",
    "|    `<`     | Kleiner dan |\n",
    "| `<=` | Kleiner dan of gelijk aan |\n",
    "| `>` | Groter dan |\n",
    "| `>=` | Groter dan of gelijk aan |\n",
    "| `!=` | Niet gelijk aan |\n",
    "| `==` | Gelijk aan |\n",
    "\n",
    "Let op dat `=` en `==` niet hetzelfde zijn - de `=` operator maakt wat links is gelijk aan wat rechts is. de `==` operator zegt of het ding aan de linkerkant hetzelfde is als wat aan de rechterkant is, en geeft WAAR of ONWAAR terug."
   ]
  },
  {
   "cell_type": "markdown",
   "metadata": {},
   "source": [
    "## 3.4 Voorwaardelijke stellingen\n",
    "We hebben nu de `while`-loops behandeld. Laten we nu eens naar iets anders kijken: voorwaardelijke stellingen (*conditionals*).\n",
    "Conditionals bepalen of een gedeelte van de code alleen wordt uitgevoerd als aan bepaalde voorwaarden is voldaan. Dit is vergelijkbaar met de `while`-lus die je zojuist hebt geschreven, die alleen wordt uitgevoerd als x niet gelijk is aan 0. Conditionals worden echter maar één keer uitgevoerd. De meest voorkomende voorwaarde in elke programmeertaal is de *if*-instructie. Hier zie je hoe het werkt: \n",
    "```\n",
    "if {voorwaarde waar aan moet worden voldaan}:\n",
    "    {doe dit}\n",
    "    {en dit}\n",
    "    {en dit}\n",
    "{voer dit sowieso uit}\n",
    "{omdat deze code niet is ingesprongen}\n",
    "```\n",
    "Nu enkele voorbeelden in Python:"
   ]
  },
  {
   "cell_type": "code",
   "execution_count": null,
   "metadata": {},
   "outputs": [],
   "source": [
    "#VOORBEELD 1\n",
    "y = 1\n",
    "if y == 1:\n",
    "    print(\"y is nog steeds gelijk aan 1\")"
   ]
  },
  {
   "cell_type": "code",
   "execution_count": null,
   "metadata": {},
   "outputs": [],
   "source": [
    "#VOORBEELD 2\n",
    "print(\"We tonen de even nummers tot en met 20\")\n",
    "n = 1\n",
    "while n <= 20:\n",
    "    if n % 2 == 0:\n",
    "        print(n)\n",
    "    n = n + 1\n",
    "print(\"Klaar!\")"
   ]
  },
  {
   "cell_type": "markdown",
   "metadata": {},
   "source": [
    "Voorbeeld 2 ziet er lastig uit. Maar het enige dat we hebben gedaan is een `if`-instructie uitvoeren elke keer dat de `while`-lus wordt uitgevoerd. Onthoud dat de `%` alleen de rest van een deling berekent - gewoon controleren of er niets overblijft als het getal door twee wordt gedeeld - wat aangeeft dat het even is. Als het even is, wordt afgedrukt wat `n` is."
   ]
  },
  {
   "cell_type": "markdown",
   "metadata": {},
   "source": [
    "## 3.5 `else` en `elif` - Als het niet waar is\n",
    "Er zijn manieren waarop u de `if`-instructie kunt gebruiken om situaties aan te pakken waarin uw booleaanse uitdrukking ONWAAR wordt. Dat zijn de `else` en` elif` instructies.\n",
    "\n",
    "`else` vertelt de computer gewoon wat hij moet doen als niet aan de voorwaarden van` if` wordt voldaan. Lees bijvoorbeeld het volgende:"
   ]
  },
  {
   "cell_type": "code",
   "execution_count": null,
   "metadata": {},
   "outputs": [],
   "source": [
    "a = 1\n",
    "if a > 5:\n",
    "    print(\"Dit mag niet gebeuren.\")\n",
    "else:\n",
    "    print(\"Dit moet gebeuren.\")"
   ]
  },
  {
   "cell_type": "markdown",
   "metadata": {},
   "source": [
    "`a` is niet groter dan vijf, daarom wordt wat er onder `else` staat gedaan.\n",
    "\n",
    "`elif` is slechts een verkorte manier om `else if` te zeggen. Als de `if`-instructie niet waar is, zal `elif` doen wat eronder staat ALS aan de voorwaarden is voldaan. Bijvoorbeeld:"
   ]
  },
  {
   "cell_type": "code",
   "execution_count": null,
   "metadata": {},
   "outputs": [],
   "source": [
    "z = 4\n",
    "if z > 70:\n",
    "    print(\"Er is iets heel erg mis\")\n",
    "elif z < 7:\n",
    "    print(\"Dit is normaal\")"
   ]
  },
  {
   "cell_type": "markdown",
   "metadata": {},
   "source": [
    "De `if`-instructie, samen met `else` en `elif`, volgt deze vorm:\n",
    "```Python\n",
    "if {voorwaarden}:\n",
    "    {voer deze code uit}\n",
    "elif {voorwaarden}:\n",
    "    {voer deze code uit}\n",
    "elif {voorwaarden}:\n",
    "    {voer deze code uit}\n",
    "else:\n",
    "    {voer deze code uit}\n",
    "\n",
    "#Je kunt zo veel of zo weinig elif-instructie hebben als je nodig hebt\n",
    "#Je kunt maximaal één else instructie hebben\n",
    "#en die komt pas na alle andere ifs en elifs.     \n",
    "```"
   ]
  },
  {
   "cell_type": "markdown",
   "metadata": {},
   "source": [
    "***Een van de belangrijkste punten om te onthouden is dat je een dubbele punt `:` aan het einde van elke regel MOET hebben met een `if`,` elif`, `else` of `while` erin.***"
   ]
  },
  {
   "cell_type": "markdown",
   "metadata": {},
   "source": [
    "## 3.6 Inspringen (*Indentation*)\n",
    "Een ander belangrijk punt is dat de code die moet worden uitgevoerd als aan de voorwaarden is voldaan, **moet worden ingesprongen**. Dat betekent dat als je de volgende vijf regels wilt herhalen met een `while`-lus, je een bepaald aantal spaties aan het begin van elk van de volgende vijf regels moet plaatsen. Dit is een *good practice* in elke taal, maar Python vereist dat je het doet. Hier is een voorbeeld van beide bovenstaande punten: "
   ]
  },
  {
   "cell_type": "code",
   "execution_count": null,
   "metadata": {},
   "outputs": [],
   "source": [
    "a = 10\n",
    "while a > 0:\n",
    "    print(a)\n",
    "    if a > 5:\n",
    "        print(\"Groot getal!\")\n",
    "    elif a % 2 != 0:\n",
    "        print(\"Dit is een oneven getal\")\n",
    "        print(\"Het is ook niet groter dan vijf\")\n",
    "    else:\n",
    "        print(\"dit getal is niet groter dan 5 \")\n",
    "        print(\"en het is ook niet oneven\")\n",
    "    a = a - 1\n",
    "    print(\"we hebben zojuist 'a' eentje kleiner gemaakt!\")\n",
    "    print(\"en tenzij 'a' niet groter is dan 0, doen we de lus opnieuw.\")\n",
    "print(\"nou, het lijkt alsof 'a' nu niet groter is dan 0!\")\n",
    "print(\"de lus is nu voorbij, en dit programma ook!\")"
   ]
  },
  {
   "cell_type": "markdown",
   "metadata": {},
   "source": [
    "Let op de drie niveaus van inspringingen hierboven:\n",
    "1. Elke regel in het eerste niveau begint zonder spaties. Het is het hoofdprogramma en zal altijd worden uitgevoerd.\n",
    "2. Elke regel in het tweede niveau begint met vier spaties. Als er een `if` of lus is op het eerste niveau, wordt alles op het tweede niveau daarna gelust, totdat er weer een nieuwe regel begint op het eerste niveau.\n",
    "3. Elke regel in het derde niveau begint met acht spaties. Als er een `if` of lus is op het tweede niveau, wordt alles op het derde niveau daarna gelust, totdat er weer een nieuwe regel begint op het tweede niveau.\n",
    "4. Dit gaat oneindig door, totdat de persoon die het programma schrijft een interne hersenexplosie heeft en niets kan begrijpen van wat hij / zij heeft geschreven."
   ]
  },
  {
   "cell_type": "markdown",
   "metadata": {},
   "source": [
    "Er bestaat nog een lus, de `for`-lus, maar daar zullen we in een latere les op terugkomen, nadat we het over `lists` hebben gehad. \n",
    "\n",
    "## 3.7 Conclusie\n",
    "En dat was les 3! In les 4 gaan we in op gebruikersinteractie en het schrijven van programma's die echt een doel dienen. Ik kan niet wachten!"
   ]
  },
  {
   "cell_type": "markdown",
   "metadata": {},
   "source": [
    "< [Programma's in een bestand en variabelen](PythonIntroCh2.ipynb) | [Inhoud](PythonIntro.ipynb) | [Functies](PythonIntroCh4.ipynb) >"
   ]
  }
 ],
 "metadata": {
  "kernelspec": {
   "display_name": "Python 3",
   "language": "python",
   "name": "python3"
  },
  "language_info": {
   "codemirror_mode": {
    "name": "ipython",
    "version": 3
   },
   "file_extension": ".py",
   "mimetype": "text/x-python",
   "name": "python",
   "nbconvert_exporter": "python",
   "pygments_lexer": "ipython3",
   "version": "3.7.9"
  }
 },
 "nbformat": 4,
 "nbformat_minor": 2
}

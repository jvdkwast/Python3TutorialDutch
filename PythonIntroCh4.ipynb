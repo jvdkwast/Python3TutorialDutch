{
 "cells": [
  {
   "cell_type": "markdown",
   "metadata": {},
   "source": [
    "< [Loops, Loops, Loops, Loops...](PythonIntroCh3.ipynb) | [Inhoud](PythonIntro.ipynb) | [Tuples, Lists en Dictionaries](PythonIntroCh5.ipynb) >"
   ]
  },
  {
   "cell_type": "markdown",
   "metadata": {},
   "source": [
    "# 4. Functies\n",
    "## 4.1 Introductie\n",
    "In de laatste les zei ik dat we ons zouden verdiepen in doelgericht programmeren. Dat omvat gebruikersinvoer en gebruikersinvoer vereist iets dat functies (*functions*) wordt genoemd.\n",
    "\n",
    "Wat zijn functies? In feite zijn functies kleine, op zichzelf staande programma's die een specifieke taak uitvoeren, die je in je eigen, grotere programma's kunt opnemen. Nadat je een functie hebt aangemaakt, kun je deze altijd en overal gebruiken. Dit bespaart je de tijd en moeite om de computer elke keer opnieuw te moeten vertellen wat hij moet doen als hij een gewone taak uitvoert, bijvoorbeeld om de gebruiker iets in te laten typen. \n",
    "\n",
    "\n",
    "## 4.2 Een functie gebruiken\n",
    "Python heeft veel vooraf gemaakte functies die je nu kunt gebruiken door ze simpelweg te aan te roepen. Het 'aanroepen' (*call*) van een functie houdt in dat je een functie-invoer geeft, en het zal een waarde retourneren (zoals een variabele zou doen) als uitvoer. Hier is de algemene vorm die het aanroepen van een functie aanneemt: \n",
    "\n",
    "`functie_naam(parameters)`\n",
    "\n",
    "- `functie_naam` identificeert welke functie je wilt gebruiken. Bijvoorbeeld de functie `raw_input`, die we zometeen als eerste zullen gebruiken.\n",
    "- `parameters` zijn de waarden die je aan de functie doorgeeft om te vertellen wat het moet doen en hoe het gedaan moet worden. Stel je maakt een functie die een bepaald getal met vijf vermenigvuldigt. Dan vertel je in de parameters van de functie met welk getal vijf moet worden vermenigvuldigd. Zet het getal 70 in parameters, en de functie doet 70 x 5."
   ]
  },
  {
   "cell_type": "markdown",
   "metadata": {},
   "source": [
    "## 4.3 Parameters en geretourneerde waarden - communiceren met functies \n",
    "Nou, dat is allemaal goed en wel dat het programma een getal met vijf kan vermenigvuldigen, maar wat moet het ervoor laten zien? Je programma moet de resultaten laten zien van wat er is gebeurd. Om te zien wat 70 x 5 is, of om te zien of er ergens een probleem is (bijvoorbeeld als je het een letter hebt gegeven in plaats van een cijfer). Dus hoe laat een functie zien wat het doet?\n",
    "\n",
    "Als een computer een functie uitvoert, ziet hij in feite niet de functienaam, maar het resultaat van wat de functie deed. Variabelen doen exact hetzelfde: de computer ziet de variabelenaam niet, maar ziet de waarde die de variabele bevat. Laten we dit illustreren met het programma dat een getal met vijf vermenigvuldigt, `multiply()`. Je zet het getal dat je wilt vermenigvuldigen tussen haakjes. Dus als je dit hebt getypt: \n",
    "\n",
    "`a = multiply(70)`\n",
    "\n",
    "ziet de computer eigenlijk alleen maar dit:\n",
    "\n",
    "`a = 350`\n",
    "\n",
    "Opmerking: typ deze code niet in - `multiply()` is geen echte functie, tenzij je deze zelf maakt. \n",
    "\n",
    "De functie heeft zichzelf uitgevoerd en vervolgens een getal teruggestuurd naar het hoofdprogramma, gebaseerd op de parameters die het had gekregen.\n",
    "\n",
    "Laten we dit nu proberen met een echte functie, en kijken wat het doet. De functie heet `input`, en vraagt de gebruiker om iets in te typen. Het verandert het vervolgens in een tekst (string). Probeer de onderstaande code: "
   ]
  },
  {
   "cell_type": "code",
   "execution_count": null,
   "metadata": {},
   "outputs": [],
   "source": [
    "# deze regel maakt 'a' gelijk aan wat je typt \n",
    "a = input(\"Typ iets in en het wordt op het scherm herhaald:\")\n",
    "# deze regel laat zien wat de waarde van 'a' nu is\n",
    "print(a)"
   ]
  },
  {
   "cell_type": "markdown",
   "metadata": {},
   "source": [
    "Stel dat je in het bovenstaande programma `hallo` hebt getypt toen het je vroeg om iets in te typen. Voor de computer zou dit programma er als volgt uitzien: \n",
    "\n",
    "```Python\n",
    "a = \"hallo\"\n",
    "print(\"hallo\")\n",
    "```"
   ]
  },
  {
   "cell_type": "markdown",
   "metadata": {},
   "source": [
    "Onthoud dat een variabele slechts een opgeslagen waarde is. Voor de computer ziet de variabele 'a' er niet uit als 'a' - het lijkt op de waarde die erin is opgeslagen. Functies zijn vergelijkbaar - voor het hoofdprogramma (dat wil zeggen, het programma dat de functie uitvoert), zien ze eruit als de waarde dat het resultaat is van de uitgevoerde functie."
   ]
  },
  {
   "cell_type": "markdown",
   "metadata": {},
   "source": [
    "## 4.4 Een rekenmachineprogramma\n",
    "Laten we een ander programma schrijven, dat als rekenmachine zal fungeren. Deze keer zal het iets avontuurlijkers doen dan wat we eerder hebben gedaan. Er zal een menu zijn waarin je wordt gevraagd of je twee getallen met elkaar wilt vermenigvuldigen, twee getallen bij elkaar wilt optellen, het ene getal door het andere wilt delen of het ene getal van het andere wilt aftrekken. Eén probleempje - de `input`-functie retourneert wat je typt als een string - we willen het getal 1, niet de letter 1 (en ja, in Python is er een verschil).\n",
    "\n",
    "Gelukkig heeft iemand de functie `eval` bedacht, die teruggeeft wat je hebt getypt in het hoofdprogramma - maar deze keer wordt het als een getal ingevoerd. Als je een geheel getal (*integer*) typt, komt er een geheel getal uit de invoer. En als je dat gehele getal in een variabele plaatst, is de variabele van het type *integer*, wat betekent dat je ermee kunt optellen en aftrekken, enz."
   ]
  },
  {
   "cell_type": "code",
   "execution_count": null,
   "metadata": {},
   "outputs": [],
   "source": [
    "# deze regel maakt 'a' gelijk aan de waarde die u typt. Het accepteert geen tekst \n",
    "a = eval(input(\"Typ iets en het zal worden herhaald op het scherm: \"))\n",
    "# deze regel laat de waarde van 'a' zien\n",
    "print(a)"
   ]
  },
  {
   "cell_type": "markdown",
   "metadata": {},
   "source": [
    "Laten we deze rekenmachine nu op de juiste manier ontwerpen. We willen een menu dat elke keer terugkeert als je klaar bent met optellen, aftrekken, enz. Met andere woorden, om te herhalen terwijl je vertelt dat het programma nog steeds moet draaien (denk aan de iteraties!).\n",
    "We willen dat het een optie in het menu kiest als je een getal intypt. Dat houdt in dat je een getal en een 'if'-conditie moet gebruiken.\n",
    "Laten we het eerst in begrijpelijk Nederlands opschrijven (pseudocode): \n",
    "\n",
    "```\n",
    "START PROGRAMMA\n",
    "print openingsbericht\n",
    "\n",
    "zolang het programma draait, doe dit:\n",
    "    #Print welke opties er zijn\n",
    "    print Optie 1 - tel op\n",
    "    print Optie 2 - trek af\n",
    "    print Optie 3 - vermenigvuldig\n",
    "    print Optie 4 - deel\n",
    "    print Optie 5 - verlaat het programma\n",
    "    \n",
    "    vraag welke optie je wilt\n",
    "    als het optie 1 is:\n",
    "        vraag naar het eerste getal\n",
    "        vraag naar het tweede getal\n",
    "        tel de getallen op\n",
    "        laat het resultaat zien\n",
    "    als het optie 2 is:\n",
    "        vraag naar het eerste getal\n",
    "        vraag naar het tweede getal\n",
    "        trek het ene getal van het andere af\n",
    "        laat het resultaat zien\n",
    "    als het optie 3 is:\n",
    "        vraag naar het eerste getal\n",
    "        vraag naar het tweede getal\n",
    "        vermenigvuldig!\n",
    "        laat het resultaat zien\n",
    "    als het optie 4 is:\n",
    "        vraag naar het eerste getal\n",
    "        vraag naar het tweede getal\n",
    "        deel de een door de ander\n",
    "        laat het resultaat zien\n",
    "    als het optie 5 is:\n",
    "        laat de iteratie weten dat die beëindigd kan worden\n",
    "Laat op het scherm een afscheidsbericht zien\n",
    "EINDE PROGRAMMA\n",
    "```\n",
    "Laten we dit omzetten in iets wat Python kan begrijpen:"
   ]
  },
  {
   "cell_type": "code",
   "execution_count": null,
   "metadata": {},
   "outputs": [],
   "source": [
    "#rekenmachineprogramma\n",
    "\n",
    "#deze variabele vertelt de iteratie of het door moet gaan of moet stoppen\n",
    "#1 betekent doorgaan. Iets anders betekent stoppen.\n",
    "\n",
    "loop = 1\n",
    "\n",
    "#deze variabele bevat de menukeuze van de gebruiker:\n",
    "\n",
    "keuze = 0\n",
    "\n",
    "while loop == 1:\n",
    "    #print welke opties er zijn\n",
    "    print(\"Welkom in rekenmachine.py\")\n",
    "\n",
    "    print(\"je keuze opties zijn:\")\n",
    "    print(\" \")\n",
    "    print(\"1. Optellen\")\n",
    "    print(\"2. Aftrekken\")\n",
    "    print(\"3. Vermenigvuldigen\")\n",
    "    print(\"4. Delen\")\n",
    "    print(\"5. Sluit rekenmachine.py af\")\n",
    "    print(\" \")\n",
    "\n",
    "    keuze = eval(input(\"Maak je keuze: \"))\n",
    "    if keuze == 1:\n",
    "        add1 = eval(input(\"Tel dit op: \"))\n",
    "        add2 = eval(input(\"bij dit: \"))\n",
    "        print(add1, \"+\", add2, \"=\", add1 + add2)\n",
    "    elif keuze == 2:\n",
    "        sub2 = eval(input(\"Trek dit af: \"))\n",
    "        sub1 = eval(input(\"van dit: \"))\n",
    "        print(sub1, \"-\", sub2, \"=\", sub1 - sub2)\n",
    "    elif keuze == 3:\n",
    "        mul1 = eval(input(\"Vermenigvuldig dit: \"))\n",
    "        mul2 = eval(input(\"met dit: \"))\n",
    "        print(mul1, \"*\", mul2, \"=\", mul1 * mul2)\n",
    "    elif keuze == 4:\n",
    "        div1 = eval(input(\"Deel dit: \"))\n",
    "        div2 = eval(input(\"door dit: \"))\n",
    "        print(div1, \"/\", div2, \"=\", div1 / div2)\n",
    "    elif keuze == 5:\n",
    "        loop = 0\n",
    "        \n",
    "print(\"Bedankt voor het gebruiken van rekenmachine.py!\")"
   ]
  },
  {
   "cell_type": "markdown",
   "metadata": {},
   "source": [
    "Speel ermee - probeer alle opties, voer gehele getallen in (getallen zonder decimalen, *integers*) en decimale getallen (in programmeren bekend als *floating point*). Probeer tekst in te typen en kijk hoe het programma een kleine fout oplost en stopt met werken (dat kan worden verholpen door foutafhandeling te gebruiken, wat we later zullen behandelen). "
   ]
  },
  {
   "cell_type": "markdown",
   "metadata": {},
   "source": [
    "## 4.5 Definieer je eigen functies\n",
    "Het is allemaal goed en wel dat je de functies van anderen kunt gebruiken, maar wat als je jouw eigen functies wilt schrijven, tijd wilt besparen en ze misschien in andere programma's wilt gebruiken? Dit is waar de `def` operator voor nodig hebben. (Een operator is gewoon iets dat Python vertelt wat hij moet doen, bijv. De `+` operator vertelt Python om dingen toe te voegen, de `if` operator vertelt Python om iets te doen als aan de voorwaarden is voldaan.)\n",
    "\n",
    "Dit is hoe de `def` operator werkt:\n",
    "\n",
    "```\n",
    "def functie_naam(parameter_1,parameter_2):\n",
    "    {dit is code in de functie}\n",
    "    {meer code}\n",
    "    {nog meer code}\n",
    "    return {waarde om terug te geven aan het hoofdprogramma}\n",
    "{deze code hoort niet bij de functie}\n",
    "{omdat er niet is ingesprongen}\n",
    "#onthoud om een dubbele punt \":\" te zetten aan het eind\n",
    "#van de regel die begint met 'def'\n",
    "```"
   ]
  },
  {
   "cell_type": "markdown",
   "metadata": {},
   "source": [
    "`functie_naam` is de naam van de functie. Je schrijft de code die in de functie onder die regel staat, en laat deze inspringen. (We zullen ons later zorgen maken over `parameter_1` en` parameter_2`, stel voor nu even voor dat er niets tussen de haakjes staat).\n",
    "\n",
    "Functies werken volledig onafhankelijk van het hoofdprogramma. Weet je nog dat ik zei dat wanneer de computer bij een functie komt, hij de functie niet ziet, maar een waarde die de functie retourneert? Hier is het citaat:\n",
    "\n",
    ">Voor de computer ziet de variabele `a` er niet uit als `a` - het lijkt op de waarde die erin is opgeslagen. Functies zijn vergelijkbaar - voor het hoofdprogramma (dat wil zeggen, het programma dat de functie uitvoert), zien ze eruit als de waarde dat het resultaat is van de uitgevoerde functie."
   ]
  },
  {
   "cell_type": "markdown",
   "metadata": {},
   "source": [
    "Een functie is als een miniatuurprogramma waaraan enkele parameters worden gegeven - het wordt vervolgens automatisch uitgevoerd en retourneert vervolgens een waarde. Je hoofdprogramma ziet alleen de geretourneerde waarde. Als die functie naar de maan en terug vloog, en dan aan het einde had: \n",
    "\n",
    "`return \"hallo\"`\n",
    "\n",
    "dan is alles wat je programma zou zien de string `\"hallo\"`, waar de naam van de functie was. Het zou geen idee hebben wat het programma nog meer deed.\n",
    "\n",
    "Omdat het een apart programma is, ziet een functie geen enkele variabele die in je hoofdprogramma staat, en je hoofdprogramma ziet geen enkele variabele die in een functie staat. Hier is bijvoorbeeld een functie die het woord `hallo` op het scherm afdrukt en vervolgens het getal `1234` teruggeeft aan het hoofdprogramma: "
   ]
  },
  {
   "cell_type": "code",
   "execution_count": null,
   "metadata": {},
   "outputs": [],
   "source": [
    "# Hieronder staat de functie\n",
    "def hallo():\n",
    "    print(\"hallo\")\n",
    "    return 1234\n",
    "\n",
    "# En hier wordt de functie gebruikt\n",
    "print(hallo())"
   ]
  },
  {
   "cell_type": "markdown",
   "metadata": {},
   "source": [
    "Dus wat gebeurde er?\n",
    "1. toen `def hallo()` werd uitgevoerd, werd een functie met de naam `hallo` gemaakt\n",
    "2. Toen de regel `print(hallo())` werd uitgevoerd, werd de functie `hallo` uitgevoerd (de code erin werd uitgevoerd)\n",
    "3. De functie `hallo` drukte `\"hallo\"` op het scherm af en retourneerde vervolgens het getal `1234` naar het hoofdprogramma\n",
    "4. Het hoofdprogramma ziet de regel nu als `print(\"1234\")` en als resultaat wordt `\"1234\"` afgedrukt."
   ]
  },
  {
   "cell_type": "markdown",
   "metadata": {},
   "source": [
    "Dat verklaart alles wat er is gebeurd. Onthoud dat het hoofdprogramma GEEN IDEE had dat het woord `hallo` op het scherm werd afgedrukt. Het enige dat het zag was `1234` en drukte dat op het scherm af."
   ]
  },
  {
   "cell_type": "markdown",
   "metadata": {},
   "source": [
    "## 4.6 Parameters doorgeven aan functies \n",
    "Er is nog één ding dat we zullen behandelen in deze (monsterlijk grote) les - parameters doorgeven aan een functie. Denk eens terug aan hoe we functies hebben gedefinieerd: \n",
    "```\n",
    "def functie_naam(parameter_1,parameter_2):\n",
    "    {dit is code in de functie}\n",
    "    {meer code}\n",
    "    {nog meer code}\n",
    "    return {waarde (bijvoorbeeld tekst of getal) om terug te geven aan het hoofdprogramma}\n",
    "```\n",
    "\n",
    "Waar `parameter_1` en` parameter_2` staan (tussen de haakjes), plaats je de namen van variabelen waarin je de parameters wilt plaatsen. Dit kunnen er zoveel zijn als je nodig hebt, gescheiden door komma's. Als je een functie uitvoert, gaat de eerste waarde die je tussen haakjes plaatst in de variabele waar `parameter_1` staat. De tweede (na de eerste komma) zou naar de variabele gaan waar `parameter_2` staat. Dit gaat door voor alle parameters die er in de functie zijn. Bijvoorbeeld: "
   ]
  },
  {
   "cell_type": "code",
   "execution_count": null,
   "metadata": {},
   "outputs": [],
   "source": [
    "def grappigefunctie(eerste_woord,tweede_woord,derde_woord):\n",
    "    print(\"Het gecreëerde woord is: \" + eerste_woord + tweede_woord + derde_woord)\n",
    "    return eerste_woord + tweede_woord + derde_woord"
   ]
  },
  {
   "cell_type": "markdown",
   "metadata": {},
   "source": [
    "Als je de bovenstaande functie uitvoert, typ je zoiets als dit: \n",
    "``` Python\n",
    "grappigefunctie(\"vlees\", \"eter\", \"man\")`\n",
    "```\n",
    "De eerste waarde (dat wil zeggen \"vlees\") zou in de variabele met de naam `eerste_woord` worden geplaatst. De tweede waarde tussen de haakjes (dat wil zeggen \"eter\") zou in de variabele met de naam `tweede_woord` worden geplaatst, enzovoort. Dit is hoe waarden worden doorgegeven van het hoofdprogramma naar functies - tussen haakjes, na de functienaam.\n",
    "\n",
    "Voeg een nieuwe regel toe aan het script hierboven die de functie aanroept."
   ]
  },
  {
   "cell_type": "markdown",
   "metadata": {},
   "source": [
    "## 4.7 Een laatste programma\n",
    "Denk eens terug aan dat rekenmachineprogramma. Zag het er een beetje rommelig uit? Ik denk van wel, dus laten we het herschrijven, met functies.\n",
    "\n",
    "Ontwerpen - Eerst gaan we alle functies definiëren die we gaan gebruiken met de `def` operator). Vervolgens gaan we het hoofdprogramma, met al die rommelige code, vervangen door leuke, nette functies. Dit maakt het zo veel gemakkelijker om in de toekomst nog eens naar te kijken. "
   ]
  },
  {
   "cell_type": "code",
   "execution_count": null,
   "metadata": {},
   "outputs": [],
   "source": [
    "# rekenmachineprogramma\n",
    "\n",
    "# GEEN CODE WORDT HIER ECHT UITGEVOERD, HET VERTELT ONS ALLEEN WAT WE LATER ZULLEN DOEN \n",
    "# Hier definiëren we onze functies  \n",
    "# dit laat het hoofdmenu zien en vraagt om een keuze \n",
    "def menu():\n",
    "    #print welke opties er zijn\n",
    "    print(\"Welkom in rekenmachine.py\")\n",
    "\n",
    "    print(\"je keuze opties zijn:\")\n",
    "    print(\" \")\n",
    "    print(\"1. Optellen\")\n",
    "    print(\"2. Aftrekken\")\n",
    "    print(\"3. Vermenigvuldigen\")\n",
    "    print(\"4. Delen\")\n",
    "    print(\"5. Sluit rekenmachine.py af\")\n",
    "    print(\" \")\n",
    "    return eval(input(\"Maak je keuze: \"))\n",
    "    \n",
    "# dit telt twee getallen op\n",
    "def add(a,b):\n",
    "    print(a, \"+\", b, \"=\", a + b)\n",
    "    \n",
    "# dit trekt twee getallen af\n",
    "def sub(a,b):\n",
    "    print(b, \"-\", a, \"=\", b - a)\n",
    "    \n",
    "# dit vermenigvuldigd twee getallen met elkaar\n",
    "def mul(a,b):\n",
    "    print(a, \"*\", b, \"=\", a * b)\n",
    "    \n",
    "# dit deelt twee getallen door elkaar\n",
    "def div(a,b):\n",
    "    print(a, \"/\", b, \"=\", a / b)\n",
    "    \n",
    "# NU BEGINT HET PROGRAMMA ECHT, ALS CODE WORDT UITGEVOERD \n",
    "loop = 1\n",
    "keuze = 0\n",
    "while loop == 1:\n",
    "    keuze = menu()\n",
    "    if keuze == 1:\n",
    "        add(eval(input(\"Tel dit op: \")),eval(input(\"bij dit: \")))\n",
    "    elif keuze == 2:\n",
    "        sub(eval(input(\"Trek dit af: \")),eval(input(\"van dit: \")))\n",
    "    elif keuze == 3:\n",
    "        mul(eval(input(\"Vermenigvuldig dit: \")),eval(input(\"met dit: \")))\n",
    "    elif keuze == 4:\n",
    "        div(eval(input(\"Deel dit: \")),eval(input(\"door dit: \")))\n",
    "    elif keuze == 5:\n",
    "        loop = 0\n",
    "\n",
    "print(\"Bedankt voor het gebruiken van rekenmachine.py!\")\n",
    "\n",
    "# HET PROGRAMMA IS NU ECHT BEËINDIGD"
   ]
  },
  {
   "cell_type": "markdown",
   "metadata": {},
   "source": [
    "Het oorspronkelijke programma had 32 regels code. De nieuwe heeft eigenlijk 34 regels code! Het is iets langer, maar als je het op de juiste manier bekijkt, is het eigenlijk eenvoudiger.\n",
    "\n",
    "Je hebt al je functies bovenaan gedefinieerd. Dit maakt echt geen deel uit van je hoofdprogramma - het zijn gewoon heel veel kleine programma's die je later zult aanroepen. Je zou deze zelfs in een ander programma kunnen gebruiken als je ze nodig had en de computer niet wilde vertellen hoe hij ook alweer moest optellen en aftrekken.\n",
    "\n",
    "Als je naar het hoofdgedeelte van het programma kijkt (tussen de regel `loop = 1` en `print(\"Bedankt voor ...\")`), dan zijn dat slechts 15 regels code. Dat betekent dat als je dit programma anders zou willen schrijven, je maar 15 regels hoeft te schrijven, in tegenstelling tot de 32 regels die je normaal zou moeten doen zonder functies. "
   ]
  },
  {
   "cell_type": "markdown",
   "metadata": {},
   "source": [
    "## 4.8 Lastige manieren waarop je parameters kunt doorgeven \n",
    "Ten slotte zal ik als een beetje een intermezzo uitleggen wat de regel `add(eval(input(\"Add this: \")), eval(input(\"to this: \")))` betekent.\n",
    "\n",
    "Ik wilde alles op één regel passen, met zo min mogelijk variabelen. Weet je nog hoe functies eruit zien voor het hoofdprogramma? Welke waarde ze ook teruggeven? Als de getallen die je hebt doorgegeven aan de functie `add()` 2 en 30 waren, zou het hoofdprogramma dit zien:\n",
    "\n",
    "`add(2,30)`\n",
    "\n",
    "Het add-programma zou dan worden uitgevoerd, 2 en 30 optellen en vervolgens het resultaat afdrukken. Het add-programma heeft geen `return`-operator - het retourneert niets naar het hoofdprogramma. Het voegt gewoon twee nummers toe en drukt ze op het scherm af, en het hoofdprogramma ziet er niets van.\n",
    "\n",
    "In plaats van `(eval(input(\" Add this: \")), eval(input(\"to this: \")))` als de parameters voor het add-programma kun je variabelen hebben. Bijv.\n",
    "```\n",
    "num1 = 45\n",
    "num2 = 7\n",
    "add(num1, num2)\n",
    "```\n",
    "\n",
    "Onthoud voor het bovenstaande dat de functie waaraan je de variabelen doorgeeft, de variabelen zelf niet kan veranderen - ze worden gewoon als waarden gebruikt. Je kunt de waarden zelfs rechtstreeks in de functie plaatsen:\n",
    "\n",
    "`add(45,7)`\n",
    "\n",
    "Dit komt omdat het enige dat de functie ziet, de waarden zijn die als parameters worden doorgegeven. Die waarden worden in de variabelen geplaatst die worden vermeld als `add` wordt gedefinieerd (de regel `def add(a, b):`). De functie gebruikt vervolgens die parameters om zijn werk te doen.\n",
    "\n",
    "Kortom:\n",
    "* Het enige dat functies van het hoofdprogramma zien, zijn de parameters die eraan worden doorgegeven\n",
    "* Het enige dat het hoofdprogramma van functies ziet, is de geretourneerde waarde die het teruggeeft"
   ]
  },
  {
   "cell_type": "markdown",
   "metadata": {},
   "source": [
    "## 4.9 Conclusie\n",
    "Dat was een nuttige les, waarmee we efficiënt hebben leren programmeren. In de volgende les kijken we naar datatypes."
   ]
  },
  {
   "cell_type": "markdown",
   "metadata": {},
   "source": [
    "< [Loops, Loops, Loops, Loops...](PythonIntroCh3.ipynb) | [Inhoud](PythonIntro.ipynb) | [Tuples, Lists en Dictionaries](PythonIntroCh5.ipynb) >"
   ]
  }
 ],
 "metadata": {
  "kernelspec": {
   "display_name": "Python 3",
   "language": "python",
   "name": "python3"
  },
  "language_info": {
   "codemirror_mode": {
    "name": "ipython",
    "version": 3
   },
   "file_extension": ".py",
   "mimetype": "text/x-python",
   "name": "python",
   "nbconvert_exporter": "python",
   "pygments_lexer": "ipython3",
   "version": "3.6.5"
  }
 },
 "nbformat": 4,
 "nbformat_minor": 2
}

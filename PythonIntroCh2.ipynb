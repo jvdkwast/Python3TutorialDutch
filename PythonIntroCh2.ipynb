{
 "cells": [
  {
   "cell_type": "markdown",
   "metadata": {},
   "source": [
    "< [Eenvoudige 'programma's'](PythonIntroCh1.ipynb) | [Inhoud](PythonIntro.ipynb) | [Loops, Loops, Loops, Loops...](PythonIntroCh3.ipynb) >"
   ]
  },
  {
   "cell_type": "markdown",
   "metadata": {},
   "source": [
    "# 2. Programa's in een bestand en variabelen\n",
    "## 2.1 Introductie\n",
    "Zo, we kunnen onelinerprogramma's maken. En dan? In de praktijk wil je programma's naar andere mensen sturen, zodat ze deze kunnen gebruiken, zonder te weten hoe ze ze moeten schrijven. \n",
    "\n",
    "## 2.2 Het schrijven van scripts\n",
    "\n",
    "Pythoncode kunnen we heel eenvoudig in een bestand zetten. Python-programma's zijn gewoon tekstdocumenten - je kunt ze openen in Kladblok en ze gewoon bekijken. \n",
    "In praktijk, echter, zal je een zogenaamde [Integrated Development Environment (IDE)](https://en.wikipedia.org/wiki/Integrated_development_environment) gebruiken om scripts te schrijven.\n",
    "\n",
    "In deze tutorial zullen we de interactieve velden van Jupyter Notebook gebruiken als IDE. Andere voorbeelden zijn de IDE van de QGIS Python console, Spyder dat bij de Anaconda distributie zit en PyCharm.\n",
    "\n",
    "Bekijk het programma (`kortjakje.py`) hieronder:"
   ]
  },
  {
   "cell_type": "code",
   "execution_count": null,
   "metadata": {},
   "outputs": [],
   "source": [
    "#Een eenvoudig programma.\n",
    "print(\"Altijd is Kortjakje ziek\")\n",
    "print(\"midden in de week, maar 's zondags niet;\")\n",
    "print(\"'s zondags gaat zij naar de kerk\", end = \" \")\n",
    "print(\"met een boek vol zilverwerk.\")"
   ]
  },
  {
   "cell_type": "markdown",
   "metadata": {},
   "source": [
    "Als je het script uitvoert (`<shift> + <Return>`) zal het regels 1 tot en met 5 achter elkaar uitvoeren. In een IDE is er altijd een scherm waar je de code kunt typen met *syntax highlighting* (zoals hier), een venster waar je de uitvoer kunt zien en een knop om het script uit te voeren. De scripts worden opgeslagen als `.py` bestanden. Deze kunnen worden uitgevoerd vanaf de command line interface - Open de Command Prompt, ga naar de map en typ `Python kortjakje.py`. Je programma wordt nu uitgevoerd op de opdrachtregel. Probeer dit eens met de QGIS Python console.\n",
    "\n",
    "In regel 4 voegt `end =\" \"` een spatie in, in plaats van een nieuwe regel aan het einde van de `print` operator. \n",
    "Met de `print` operator kunnen we zowel enkele als dubbele aanhalingstekens gebruiken. Omdat onze tekst al enkele aanhalingstekens bevat, moeten we dubbele aanhalingstekens gebruiken."
   ]
  },
  {
   "cell_type": "markdown",
   "metadata": {},
   "source": [
    "## 2.3 Variabelen\n",
    "\n",
    "Laten we nu variabelen introduceren. Variabelen slaan een waarde op, die kan worden bekeken of later kan worden gewijzigd. We gaan een programma maken dat variabelen gebruikt:"
   ]
  },
  {
   "cell_type": "code",
   "execution_count": null,
   "metadata": {},
   "outputs": [],
   "source": [
    "#demonstratie van variabelen\n",
    "print(\"Dit programma demonstreert het gebruik van variabelen\")\n",
    "v = 1\n",
    "print(\"De waarde van v is nu\", v)\n",
    "v = v + 1\n",
    "print(\"v is nu gelijk aan zichzelf plus één, daardoor is de waarde\", v)\n",
    "v = 51\n",
    "print(\"v kan elke numerieke waarde opslaan om ergens anders te worden gebruikt.\")\n",
    "print(\"bijvoorbeeld in een zin. v heeft nu de waarde\", v)\n",
    "print(\"v keer 5 is gelijk aan\", v * 5)\n",
    "print(\"maar v heeft nog steeds de waarde\", v)\n",
    "print(\"om v vijf keer zo groot te maken, zou je v = v * 5 moeten typen\")\n",
    "v = v * 5\n",
    "print(\"ziedaar, nu is v gelijk aan\", v, \"en niet\", v / 5)"
   ]
  },
  {
   "cell_type": "markdown",
   "metadata": {},
   "source": [
    "Voer het script uit en probeer de resultaten te begrijpen."
   ]
  },
  {
   "cell_type": "markdown",
   "metadata": {},
   "source": [
    "## 2.5 Strings\n",
    "Zoals je kunt zien, slaan variabelen waarden op voor gebruik op een later tijdstip. Je kunt ze op elk moment wijzigen. Je kunt echter meer dan cijfers invoeren. Variabelen kunnen dingen als tekst en zelfs objecten zoals GIS data bevatten. Een variabele die tekst bevat, wordt een string genoemd. Probeer dit programma: "
   ]
  },
  {
   "cell_type": "code",
   "execution_count": null,
   "metadata": {},
   "outputs": [],
   "source": [
    "#variabelen tekst geven en tekst toevoegen.\n",
    "woord1 = \"Goede\"\n",
    "woord2 = \"morgen\"\n",
    "woord3 = \"deze morgen!\"\n",
    "print(woord1, woord2)\n",
    "zin = woord1 + \" \" + woord2 + \" \" + woord3\n",
    "print(zin)"
   ]
  },
  {
   "cell_type": "markdown",
   "metadata": {},
   "source": [
    "Zoals je ziet, bevatten de bovenstaande variabelen tekst. Variabelenamen kunnen ook langer zijn dan één letter - hier hadden we `woord1`,` woord2` en `woord3`. Zoals je ook kunt zien, kunnen strings bij elkaar worden opgeteld om langere woorden of zinnen te maken. Het voegt echter geen spaties toe tussen de woorden - vandaar dat ik een spatie tussen aanhalingstekens `\" \"` plaats (er is één spatie tussen de woorden)."
   ]
  },
  {
   "cell_type": "markdown",
   "metadata": {},
   "source": [
    "## 2.6 Conclusie\n",
    "Goed gedaan! We begrijpen nu langere programma's en kennen het gebruik van variabelen. In de volgende les kijken we naar iteraties (*loops*), wat ze zijn en hoe ze te gebruiken."
   ]
  },
  {
   "cell_type": "markdown",
   "metadata": {},
   "source": [
    "< [Eenvoudige 'programma's'](PythonIntroCh1.ipynb) | [Inhoud](PythonIntro.ipynb) | [Loops, Loops, Loops, Loops...](PythonIntroCh3.ipynb) >"
   ]
  }
 ],
 "metadata": {
  "kernelspec": {
   "display_name": "Python 3",
   "language": "python",
   "name": "python3"
  },
  "language_info": {
   "codemirror_mode": {
    "name": "ipython",
    "version": 3
   },
   "file_extension": ".py",
   "mimetype": "text/x-python",
   "name": "python",
   "nbconvert_exporter": "python",
   "pygments_lexer": "ipython3",
   "version": "3.6.5"
  }
 },
 "nbformat": 4,
 "nbformat_minor": 2
}
